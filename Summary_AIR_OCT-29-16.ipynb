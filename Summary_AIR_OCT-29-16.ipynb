{
 "cells": [
  {
   "cell_type": "markdown",
   "metadata": {},
   "source": [
    "#### At Matt's request, here is a summary of what we did at the AIR meeting on Saturday, October 29, 2016. In short, we did Python. Here are the details."
   ]
  },
  {
   "cell_type": "markdown",
   "metadata": {},
   "source": [
    "##Code example 1-1 -- non-pythonic version"
   ]
  },
  {
   "cell_type": "code",
   "execution_count": 1,
   "metadata": {
    "collapsed": false,
    "scrolled": true
   },
   "outputs": [
    {
     "name": "stdout",
     "output_type": "stream",
     "text": [
      "Doctor Strange    vs.    The Dread Dormammu\n",
      "to the death-death-death!!!\n",
      "\n",
      "Obi-Wan Kenobi    vs.    Darth Vader\n",
      "to the death-death-death!!!\n",
      "\n",
      "Homer Simpson    vs.    Mr. Burns\n",
      "to the death-death-death!!!\n",
      "\n",
      "Sarah Connor    vs.    The T-1000 Terminator\n",
      "to the death-death-death!!!\n",
      "\n"
     ]
    }
   ],
   "source": [
    "# epic_battle.py -- the first iteration\n",
    "\n",
    "heroes = ['Doctor Strange', 'Obi-Wan Kenobi', \n",
    "            'Homer Simpson', 'Sarah Connor']\n",
    "\n",
    "villains = ['The Dread Dormammu', 'Darth Vader', \n",
    "            'Mr. Burns', 'The T-1000 Terminator']\n",
    "\n",
    "for i in range(4):\n",
    "    print heroes[i],\n",
    "    print '   vs.   ',\n",
    "    print villains[i]\n",
    "    print \"to the death-death-death!!!\"\n",
    "    print"
   ]
  },
  {
   "cell_type": "markdown",
   "metadata": {},
   "source": [
    "Above is the first code example, `epic_battle.py`.   \n",
    "The important concepts that we introduced here are the following:\n",
    "1. The data structures named `heroes` and `villains` are **`*lists`.** A `list` is defined using square brackets. These particular lists contain **`strings`**, one for each hero or villain. However, Python `lists`, in general, can contain just about anything.\n",
    "2. If you want to know what kind of thing something is, you can call **`type()`**, one of Python's [**built-in functions**](https://docs.python.org/2/library/functions.html). Example: If you enter `type(heroes)` at an IPython prompt, it will tell you that `heroes` is a `list`.\n",
    "3. `Lists` can be indexed. You enter **`heroes[0]`** or **`print heroes[0]`** you will get **`'Doctor Strange'`.**\n",
    "4. The **`for` statement** is a control structure. It has a loop variable (**`i`** in this example) that goes through a set of values (given after the **`in`** [keyword](http://www.pythonforbeginners.com/basics/keywords-in-python)).\n",
    "5. The **`range()`** function is another Python **built-in**. If you type `range(4)` and hit enter, you will see that it produces a `list`, `[0, 1, 2, 3]`. \n",
    "6. To summarize this code, the **`for` loop** loops over the values in `[0, 1, 2, 3]`, and uses each value as an index into `heroes` and `villains`. As a result, it prints a message for each `hero-villain` match-up.  "
   ]
  },
  {
   "cell_type": "markdown",
   "metadata": {},
   "source": [
    "If you have trouble running the code, see the embedded video below, or [here](https://www.youtube.com/watch?v=PQ8raAwRG0c) if it doesn't embed properly."
   ]
  },
  {
   "cell_type": "code",
   "execution_count": 2,
   "metadata": {
    "collapsed": false
   },
   "outputs": [
    {
     "data": {
      "text/html": [
       "\n",
       "        <iframe\n",
       "            width=\"400\"\n",
       "            height=\"300\"\n",
       "            src=\"https://www.youtube.com/embed/PQ8raAwRG0c\"\n",
       "            frameborder=\"0\"\n",
       "            allowfullscreen\n",
       "        ></iframe>\n",
       "        "
      ],
      "text/plain": [
       "<IPython.lib.display.YouTubeVideo at 0x7f3f4b7aed50>"
      ]
     },
     "execution_count": 2,
     "metadata": {},
     "output_type": "execute_result"
    }
   ],
   "source": [
    "# First demo video -- How to run the code \n",
    "# found at https://www.youtube.com/watch?v=PQ8raAwRG0c\n",
    "from IPython.display import YouTubeVideo\n",
    "YouTubeVideo('PQ8raAwRG0c')"
   ]
  },
  {
   "cell_type": "markdown",
   "metadata": {},
   "source": [
    "We also showed how you can start IPython and explore everything from the IPython prompt.  \n",
    "**MAKE SURE YOU LEARN THESE, THEY ARE SUPER USEFUL!!!**  \n",
    "There is a video below that will take you through the use of each one of these.  \n",
    "- The **'.' operator** is used to access the attributes of a Python object.\n",
    "- One way to see what an object's attributes are is to use [**tab-completion**](https://ipython.org/ipython-doc/2/interactive/tutorial.html#tab-completion): type the object name plus the '.' operator and hit the tab key. For instance, type 'list.' and hit tab. You will see all the possible valid ways of completing the phrase.\n",
    "- Another way is to use the built-in function, **dir()**. Try typing 'dir(list)' and hit enter. \n",
    "- Once you know what attributes something has, you can use the '?' to figure out what it does. Try typing 'list.append?' and hit enter. [By the way, you can also use Python's built-in **help()** function.]\n",
    "- Use IPython's **'magic'** function **'%run'** by typing '%run filename.py' in order to run a script named filename.py.\n",
    "- Use IPython's **'magic'** function **'%whos'** to see what's in the interactive namespace. If you call %whos after running a script, you will see a list of all the objects that the script created.\n",
    "- By the way, type **'%magic'** at an IPython prompt to read about IPython's magic functions. Since this documentation is too long for a single screen, it will open in a program called a **'pager'**, which you can navigate forward by hitting the spacebar, and backwards by hitting 'b'. Press 'q' to exit the pager and return to the IPython prompt."
   ]
  },
  {
   "cell_type": "markdown",
   "metadata": {},
   "source": [
    "Some things are worth repeating: **MAKE SURE YOU LEARN THESE, THEY ARE SUPER USEFUL!!!**  \n",
    "OK, if the above list items are too cryptic, here's a [video](https://youtu.be/H-rcGV35n9w) that reviews them."
   ]
  },
  {
   "cell_type": "code",
   "execution_count": 3,
   "metadata": {
    "collapsed": false
   },
   "outputs": [
    {
     "data": {
      "text/html": [
       "\n",
       "        <iframe\n",
       "            width=\"400\"\n",
       "            height=\"300\"\n",
       "            src=\"https://www.youtube.com/embed/H-rcGV35n9w\"\n",
       "            frameborder=\"0\"\n",
       "            allowfullscreen\n",
       "        ></iframe>\n",
       "        "
      ],
      "text/plain": [
       "<IPython.lib.display.YouTubeVideo at 0x7f3f4b7aed90>"
      ]
     },
     "execution_count": 3,
     "metadata": {},
     "output_type": "execute_result"
    }
   ],
   "source": [
    "# Video of IPython tricks and tips \n",
    "# found at https://youtu.be/H-rcGV35n9w\n",
    "from IPython.display import YouTubeVideo\n",
    "YouTubeVideo('H-rcGV35n9w')"
   ]
  },
  {
   "cell_type": "markdown",
   "metadata": {},
   "source": [
    "It is important to note that this first code example is **NOT PYTHONIC** (it is written in a style used by many non-Python languages), and that next we are going to introduce the same code change into a more **PYTHONIC** form."
   ]
  },
  {
   "cell_type": "markdown",
   "metadata": {},
   "source": [
    "## Code example 1-2 -- starting to get pythonic"
   ]
  },
  {
   "cell_type": "code",
   "execution_count": 4,
   "metadata": {
    "collapsed": false
   },
   "outputs": [
    {
     "name": "stdout",
     "output_type": "stream",
     "text": [
      "Doctor Strange    vs.    The Dread Dormammu\n",
      "to the death!!!\n",
      "\n",
      "Obi-Wan Kenobi    vs.    Darth Vader\n",
      "to the death!!!\n",
      "\n",
      "Homer Simpson    vs.    Mr. Burns\n",
      "to the death!!!\n",
      "\n",
      "Sarah Connor    vs.    The T-1000 Terminator\n",
      "to the death!!!\n",
      "\n"
     ]
    }
   ],
   "source": [
    "# epic_battle_pythonic_1.py -- the second iteration, and the first pythonic one\n",
    "\n",
    "heroes = ['Doctor Strange', 'Obi-Wan Kenobi', \n",
    "            'Homer Simpson', 'Sarah Connor']\n",
    "\n",
    "villains = ['The Dread Dormammu', 'Darth Vader', \n",
    "            'Mr. Burns', 'The T-1000 Terminator']\n",
    "\n",
    "for hero, villain in zip(heroes, villains):\n",
    "    print hero,\n",
    "    print '   vs.   ',\n",
    "    print villain\n",
    "    print \"to the death!!!\"\n",
    "    print"
   ]
  },
  {
   "cell_type": "markdown",
   "metadata": {},
   "source": [
    "This code does the same thing, but it is more pythonic. What does that mean? Short version--more elegant, more compact, and easier to read, almost like reading plain English. Long version? Well, understanding what \"pythonic\" means is part of the journey to Pythonista-hood. If you google \"What does pythonic mean?\" you will get lots of hits. For instance, one blog article about this subject is found [here](http://blog.startifact.com/posts/older/what-is-pythonic.html). But there are many others.\n",
    "\n",
    "In this second, more pythonic code sample, we introduced several new concepts:\n",
    "1. The **`tuple`**. The simplest tuple is an ordered pair, eg (1, 2). A `tuple` is like a `list`, but it is [**immutable**](https://docs.python.org/2/reference/datamodel.html). It can hold just about anything in general. \n",
    "2. The **`zip()`** function, another Python built-in. It creates a `list` of `tuples` from its arguments (this is called 'packing'). Try creating some `lists` and calling `zip()` on them to see what they return. Or try typing `zip?` at the IPython prompt.\n",
    "3. Tuple **unpacking**. Tuples get easily unpacked when you are ready to use what's in them. You'll see some examples right below this list.\n",
    "4. The **pythonic `for` loop**. Here's where the code gets more pythonic than the previous example. Index variables are often unnecessary, and the pythonic version is much easier to read and understand without them. Well-chosen variable names are also imporant.  When you do need the value of a loop counter, there is a more pythonic way to do it than in the first code example--more on this later. Our new for loop uses **`zip()`** together with **`tuple` unpacking.** This is more pythonic. One of the advantages of pythonic code is that it is more readable (but this is not the only advantage).  \n",
    "\n",
    "Here are some basic examples."
   ]
  },
  {
   "cell_type": "code",
   "execution_count": 5,
   "metadata": {
    "collapsed": false
   },
   "outputs": [
    {
     "name": "stdout",
     "output_type": "stream",
     "text": [
      "a = 1\n",
      "b = 2\n",
      "\n",
      "After swapping:\n",
      "a = 2\n",
      "b = 1\n",
      "\n",
      "Joe 5\n",
      "Joe has 5 nickels.\n",
      "Mary has 7 nickels.\n",
      "Alex has 2 nickels.\n"
     ]
    }
   ],
   "source": [
    "# Tuple unpacking examples\n",
    "# Note: Below I'll use Python's built-in function, str().\n",
    "# This is necessary when I want to build a string that includes integer values;\n",
    "# first, the integer must be converted to a string. This is the job description of str().\n",
    "\n",
    "a, b = 1, 2\n",
    "print \"a = \" + str(a) # str() converts an int into a str. Try doing it without and see the error message\n",
    "print \"b = \" + str(b) # you get--this will help you later, when you make this same error unintentionally.\n",
    "print                 # It will happen, trust me.\n",
    "# This code segment (above) demonstrates implicit packing and unpacking. On the right hand side, \n",
    "# the values get packed into a tuple.On the left hand side, that tuple is unpacked into the variables \n",
    "# named 'a' and 'b'.This is called 'multiple assignment.'\n",
    "\n",
    "a, b = b, a\n",
    "print \"After swapping:\"\n",
    "print \"a = \" + str(a)\n",
    "print \"b = \" + str(b)\n",
    "print\n",
    "# (Above) It's easy to swap variables with Python's multiple assignment syntax. In most other languages,\n",
    "# you need three steps and the use of a dummy variable to do the same thing.\n",
    "\n",
    "nickels = [('Joe', 5), ('Mary', 7), ('Alex', 2)] \n",
    "# nickels -- a list of tuples: Do you know how to create the same list using zip()?\n",
    "who, how_many = nickels[0] # nickels[0] = ('Joe', 5), unpacked into who = 'Joe', how_many = 5\n",
    "print who, how_many\n",
    "\n",
    "# A **pythonic** for loop, using tuple unpacking and readable, understandable\n",
    "# variable names\n",
    "for who, how_many in nickels:\n",
    "    print who + \" has \" + str(how_many) + \" nickels.\""
   ]
  },
  {
   "cell_type": "markdown",
   "metadata": {},
   "source": [
    "What's happening here?"
   ]
  },
  {
   "cell_type": "markdown",
   "metadata": {},
   "source": [
    "1. For the examples using `a` and `b`, see the comments in the code above.\n",
    "2. For the `nickels` example, we have a list of `tuples` named `nickels` that gets unpacked\n",
    "into the loop variables `who` and `how_many`. This is the pythonic way of doing a `for` loop. \n",
    "On each iteration of the loop, these variables get substituted into the output message. \n",
    "Notice that `str()` is used on `how_many` to prevent a `TypeError` message."
   ]
  },
  {
   "cell_type": "markdown",
   "metadata": {},
   "source": [
    "### Extra topics -- randomization and sorting"
   ]
  },
  {
   "cell_type": "markdown",
   "metadata": {},
   "source": [
    "#### Randomization (Thank you for the question, Siddarth!)"
   ]
  },
  {
   "cell_type": "markdown",
   "metadata": {},
   "source": [
    "Siddarth asked how we might make random matches rather than having each hero fight his own arch-nemesis. This is not too difficult. There is more than one way to do this, but Pulin's solution is the most elegant one we've seen so far, so I'll use that one. Thanks, Pulin!  \n",
    "\n",
    "By the way, one of the constraints that Siddarth requested is that there be no duplicates, meaning that each hero and each villain will be scheduled for exactly one battle.\n",
    "\n",
    "All we need for this is a method from Python's `random` library: `shuffle`. You can learn about `shuffle` and about the other methods in the `random` library [here](https://docs.python.org/2/library/random.html). \n",
    "\n",
    "This method will randomly re-order the elements of a `list`. If we `shuffle` one of our `lists`--say, `villains`--then each `hero` will be matched with a randomly chosen `villain`.\n",
    "\n",
    "To use a method from a library, we need to learn about Python's `import` keyword. We're going to learn by example for now. If you want to learn more at this point, you can see a detailed explanation of `import` statements [here](https://www.tutorialspoint.com/python/python_modules.htm). "
   ]
  },
  {
   "cell_type": "code",
   "execution_count": 6,
   "metadata": {
    "collapsed": false
   },
   "outputs": [
    {
     "name": "stdout",
     "output_type": "stream",
     "text": [
      "Doctor Strange    vs.    Mr. Burns\n",
      "to the death!!!\n",
      "\n",
      "Obi-Wan Kenobi    vs.    The Dread Dormammu\n",
      "to the death!!!\n",
      "\n",
      "Homer Simpson    vs.    Darth Vader\n",
      "to the death!!!\n",
      "\n",
      "Sarah Connor    vs.    The T-1000 Terminator\n",
      "to the death!!!\n",
      "\n"
     ]
    }
   ],
   "source": [
    "# epic_battle_pythonic_1.py -- the second iteration, and the first pythonic one\n",
    "\n",
    "# with RANDOMIZATION added\n",
    "from random import shuffle\n",
    "\n",
    "heroes = ['Doctor Strange', 'Obi-Wan Kenobi', \n",
    "            'Homer Simpson', 'Sarah Connor']\n",
    "\n",
    "villains = ['The Dread Dormammu', 'Darth Vader', \n",
    "            'Mr. Burns', 'The T-1000 Terminator']\n",
    "\n",
    "shuffle(villains)\n",
    "\n",
    "for hero, villain in zip(heroes, villains):\n",
    "    print hero,\n",
    "    print '   vs.   ',\n",
    "    print villain\n",
    "    print \"to the death!!!\"\n",
    "    print"
   ]
  },
  {
   "cell_type": "markdown",
   "metadata": {},
   "source": [
    "Try running the code cell multiple times and you will see that you get a different series of matchups each time."
   ]
  },
  {
   "cell_type": "markdown",
   "metadata": {},
   "source": [
    "Here we used the `from ... import ...` syntax because we only need a single method from the `random` library.  If you want to load all the methods from `random`, and play around with them in IPython to learn how they work, just go to the IPython prompt and type `import random` and hit enter. Then you can type `random.` and hit `tab` to use the trick described above in the tips & tricks video. To summarize, this sequence of keystrokes lets you use the **dot operator** together with **tab completion** to explore the methods in the `random` library. If you type the name of any method followed by a question mark, for instance `random.shuffle?`, then IPython will tell you what that method does and how it can be used.  "
   ]
  },
  {
   "cell_type": "markdown",
   "metadata": {},
   "source": [
    "#### Sorting (Thanks for the question, Taylor!!)"
   ]
  },
  {
   "cell_type": "markdown",
   "metadata": {},
   "source": [
    "Taylor wanted to know more about sorting. This is not hard to do in Python, because Python has a built-in method `sorted()`, and Python's `list` class has a built-in method `.sort()`. We'll see how to use both, and also explain why there are two different ways to sort."
   ]
  },
  {
   "cell_type": "code",
   "execution_count": 7,
   "metadata": {
    "collapsed": false
   },
   "outputs": [
    {
     "name": "stdout",
     "output_type": "stream",
     "text": [
      "heroes =  ['Doctor Strange', 'Obi-Wan Kenobi', 'Homer Simpson', 'Sarah Connor']\n",
      "\n",
      "The sorted contents of heroes:  ['Doctor Strange', 'Homer Simpson', 'Obi-Wan Kenobi', 'Sarah Connor']\n",
      "\n",
      "This didn't change heroes:  ['Doctor Strange', 'Obi-Wan Kenobi', 'Homer Simpson', 'Sarah Connor']\n"
     ]
    }
   ],
   "source": [
    "print \"heroes = \",\n",
    "print heroes\n",
    "print\n",
    "print \"The sorted contents of heroes: \",\n",
    "print sorted(heroes)\n",
    "print\n",
    "print \"This didn't change heroes: \", \n",
    "print heroes"
   ]
  },
  {
   "cell_type": "markdown",
   "metadata": {},
   "source": [
    "**Side note: **Notice how a comma at the end of a `print` statement causes the next `print` statement to print on the same line rather than on a new line.  \n",
    "\n",
    "The important point here is that using Python's **built-in function**, **`sorted()`** gives you a sorted **COPY** of your `list`, and doesn't change the original `list`. Compare this with the behavior of the `list` class's built-in **`.sort()`** method:"
   ]
  },
  {
   "cell_type": "code",
   "execution_count": 8,
   "metadata": {
    "collapsed": false
   },
   "outputs": [
    {
     "name": "stdout",
     "output_type": "stream",
     "text": [
      "heroes =  ['Doctor Strange', 'Obi-Wan Kenobi', 'Homer Simpson', 'Sarah Connor']\n",
      "\n",
      "I ran the '.sort() method, and now\n",
      "heroes =  ['Doctor Strange', 'Homer Simpson', 'Obi-Wan Kenobi', 'Sarah Connor']\n"
     ]
    }
   ],
   "source": [
    "# First put 'heroes' back in its original order:\n",
    "heroes = ['Doctor Strange', 'Obi-Wan Kenobi', \n",
    "            'Homer Simpson', 'Sarah Connor']\n",
    "\n",
    "print \"heroes = \",\n",
    "print heroes\n",
    "print\n",
    "\n",
    "heroes.sort()\n",
    "\n",
    "print \"I ran the '.sort() method, and now\"\n",
    "print \"heroes = \", \n",
    "print heroes"
   ]
  },
  {
   "cell_type": "markdown",
   "metadata": {},
   "source": [
    "Calling the `.sort()` method of a `list` sorts the list **IN PLACE**, changing the order in the **original list.** Notice also that the `sorted()` function returns a copy of the original `list`, while the `.sort()` method doesn't return anything. This is why I can use a `print` statement with `sorted(heroes)`, but if I try  \n",
    "\n",
    "    print heroes.sort()  \n",
    "    \n",
    "then the list gets sorted, but the output that the `print` statement gives me is \n",
    "\n",
    "    None  \n",
    "    \n",
    "If this isn't making sense, try it in IPython, or cut and paste the `heroes.sort()` call to after the `print` statement on the line above, and see how it works for yourself."
   ]
  },
  {
   "cell_type": "markdown",
   "metadata": {},
   "source": [
    "What if I want to sort my list in some way other than alphabetical? What if I want to sort a list of numbers? What if I want to sort arbitrary objects according the value of some arbitrary attribute? Let's look at a few quick examples. If you want more detailed info, just google \"python sort function\" and/or \"python list sort method\" and you will find tons of links. Before we look at our simple examples, let's look at the output of the `sorted()` function's docstring, the info produced by typing `sorted?` at an IPython prompt:\n",
    "\n",
    "    Docstring: sorted(iterable, cmp=None, key=None, reverse=False) --> new sorted list\n",
    "    Type:      builtin_function_or_method\n",
    "\n",
    "Perform the google search above if you want to know everything about this function and what these words all mean. But in short, a `list` is one kind of `iterable` object, so we can pass it as the first argument to the `sorted` function. If that's all we do, as we did in the code cells above, the [keyword arguments](https://docs.python.org/2/tutorial/controlflow.html#keyword-arguments) listed in the function signature will be set to their default values, which are given after the equals signs. In the examples below, we are going to try giving different values to the keyword arguments, and see what happens. Use trial and error to change these examples, or find new code examples online--one way to do that would just be to add the word 'examples' to the google search above."
   ]
  },
  {
   "cell_type": "code",
   "execution_count": 9,
   "metadata": {
    "collapsed": false
   },
   "outputs": [
    {
     "name": "stdout",
     "output_type": "stream",
     "text": [
      "Original order of heroes:\n",
      "['Doctor Strange', 'Obi-Wan Kenobi', 'Homer Simpson', 'Sarah Connor']\n",
      "\n",
      "Sorting heroes in reverse alphabetical order:\n",
      "['Sarah Connor', 'Obi-Wan Kenobi', 'Homer Simpson', 'Doctor Strange']\n",
      "\n",
      "Sorting heroes by last name:\n",
      "['Sarah Connor', 'Obi-Wan Kenobi', 'Homer Simpson', 'Doctor Strange']\n",
      "\n",
      "Sorting heroes by IQ (highest to lowest):\n",
      "['Doctor Strange', 'Obi-Wan Kenobi', 'Sarah Connor', 'Homer Simpson']\n"
     ]
    }
   ],
   "source": [
    "# EXAMPLES to illustrate the use of the keyword arguments in the sorted() method\n",
    "# These examples will include Python concepts that we haven't covered yet,\n",
    "# so if these are new to you, consider them 'puzzles' and try to work out what's going on\n",
    "# for yourself, using the awesome power of your own wits amplified by google searches. \n",
    "# Or, just ask me or someone else for help.\n",
    "#\n",
    "# First put 'heroes' back in its original order:\n",
    "heroes = ['Doctor Strange', 'Obi-Wan Kenobi', \n",
    "            'Homer Simpson', 'Sarah Connor']\n",
    "\n",
    "print \"Original order of heroes:\"\n",
    "print heroes\n",
    "print\n",
    "\n",
    "print \"Sorting heroes in reverse alphabetical order:\"\n",
    "print sorted(heroes, reverse=True)\n",
    "print\n",
    "\n",
    "# The Python 'def' keyword begins something called a **function definition\n",
    "# statement**. It usually ends with a **return statement**. Use google to \n",
    "# learn more.\n",
    "def lastname(hero):\n",
    "    words = hero.split()\n",
    "    return words[-1]\n",
    "\n",
    "print \"Sorting heroes by last name:\"\n",
    "print sorted(heroes, key=lastname)\n",
    "print\n",
    "\n",
    "# heroes_iq is a built-in Python data structure known as a 'dict', or \n",
    "# in plain English, a dictionary. A dictionary assignment statement uses \n",
    "# curly braces and colons. After this code runs, try calling 'type()' on heroes_iq,\n",
    "# and see what methods it has with the dot-tab technique. Google 'python dictionary'\n",
    "# for more details.\n",
    "heroes_iq = { 'Doctor Strange': 175, \n",
    "             'Obi-Wan Kenobi': 160, \n",
    "             'Homer Simpson': 62, \n",
    "             'Sarah Connor': 140 }\n",
    "def get_iq(hero):\n",
    "    return heroes_iq[hero]\n",
    "print \"Sorting heroes by IQ (highest to lowest):\"\n",
    "print sorted(heroes, key=get_iq, reverse=True)\n"
   ]
  }
 ],
 "metadata": {
  "kernelspec": {
   "display_name": "Python 2",
   "language": "python",
   "name": "python2"
  },
  "language_info": {
   "codemirror_mode": {
    "name": "ipython",
    "version": 2
   },
   "file_extension": ".py",
   "mimetype": "text/x-python",
   "name": "python",
   "nbconvert_exporter": "python",
   "pygments_lexer": "ipython2",
   "version": "2.7.12"
  }
 },
 "nbformat": 4,
 "nbformat_minor": 0
}
