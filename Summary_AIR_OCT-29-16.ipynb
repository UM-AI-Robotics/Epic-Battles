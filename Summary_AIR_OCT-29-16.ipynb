{
 "cells": [
  {
   "cell_type": "markdown",
   "metadata": {},
   "source": [
    "#### At Matt's request, here is a summary of what we did at the AIR meeting on Saturday, October 29, 2016. In short, we did Python. Here are the details."
   ]
  },
  {
   "cell_type": "markdown",
   "metadata": {},
   "source": [
    "## The first code example"
   ]
  },
  {
   "cell_type": "code",
   "execution_count": 1,
   "metadata": {
    "collapsed": false,
    "scrolled": true
   },
   "outputs": [
    {
     "name": "stdout",
     "output_type": "stream",
     "text": [
      "Doctor Strange    vs.    The Dread Dormammu\n",
      "to the death!!!\n",
      "\n",
      "Old Ben Kenobi    vs.    Darth Vader\n",
      "to the death!!!\n",
      "\n",
      "Homer Simpson    vs.    Mr. Burns\n",
      "to the death!!!\n",
      "\n",
      "Sarah Connor    vs.    The T-1000 Terminator\n",
      "to the death!!!\n",
      "\n"
     ]
    }
   ],
   "source": [
    "# epic_battle.py -- the first iteration\n",
    "\n",
    "heroes = ['Doctor Strange', 'Old Ben Kenobi', \n",
    "            'Homer Simpson', 'Sarah Connor']\n",
    "\n",
    "villains = ['The Dread Dormammu', 'Darth Vader', \n",
    "            'Mr. Burns', 'The T-1000 Terminator']\n",
    "\n",
    "for i in range(4):\n",
    "    print heroes[i],\n",
    "    print '   vs.   ',\n",
    "    print villains[i]\n",
    "    print \"to the death!!!\"\n",
    "    print"
   ]
  },
  {
   "cell_type": "markdown",
   "metadata": {},
   "source": [
    "Above is the first code example, epic_battle.py.   \n",
    "The important concepts that we introduced here are the following:\n",
    "1. The data structures named 'heroes' and 'villains' are **lists.** A list is defined using square brackets. These particular lists contain **strings**, one for each hero or villain. However, Python lists, in general, can contain just about anything.\n",
    "2. If you want to know what kind of thing something is, you can call **type()**, one of Python's [**built-in functions**](https://docs.python.org/2/library/functions.html). Example: If you enter 'type(heroes)' at an IPython prompt, it will tell you that heroes is a list.\n",
    "3. Lists can be indexed. You enter **'heroes[0]'** or **'print heroes[0]'** you will get **'Doctor Strange'.**\n",
    "4. The **for statement** is a control structure. It has a loop variable (**i** in this example) that goes through a set of values (given after the **in** [keyword](http://www.pythonforbeginners.com/basics/keywords-in-python)).\n",
    "5. The **range()** function is another Python **built-in**. If you type 'range(4)' and hit enter, you will see that it produces a list, '[0, 1, 2, 3]'. \n",
    "6. To summarize this code, the **for loop** loops over the values in [0, 1, 2, 3], and uses each value as an index into heroes and villains. As a result, it prints a message for each hero-villain match-up.  "
   ]
  },
  {
   "cell_type": "code",
   "execution_count": null,
   "metadata": {
    "collapsed": true
   },
   "outputs": [],
   "source": []
  },
  {
   "cell_type": "markdown",
   "metadata": {},
   "source": [
    "We also showed how you can start IPython and explore everything from the IPython prompt.  \n",
    "**MAKE SURE YOU LEARN THESE, THEY ARE SUPER USEFUL!!!** \n",
    "- The **'.' operator** is used to access the attributes of a Python object.\n",
    "- One way to see what an object's attributes are is to use [**tab-completion**](https://ipython.org/ipython-doc/2/interactive/tutorial.html#tab-completion): type the object name plus the '.' operator and hit the tab key. For instance, type 'list.' and hit tab. You will see all the possible valid ways of completing the phrase.\n",
    "- Another way is to use the built-in function, **dir()**. Try typing 'dir(list)' and hit enter. \n",
    "- Once you know what attributes something has, you can use the '?' to figure out what it does. Try typing 'list.append?' and hit enter. [By the way, you can also use Python's built-in **help()** function.]\n",
    "- Use IPython's 'magic' function, '%run filename.py' to run a script.\n",
    "- Use IPython's 'magic' function, '%whos' to see what's in the interactive namespace. If you call %whos after running a script, you will see a list of all the objects that the script created.\n",
    "- By the way, type '%magic' at an IPython prompt to read about IPython's magic functions. The documentation will open in a program called a 'pager', which you can navigate forward by hitting the spacebar, and backwards by hitting 'b'. Press 'q' to exit."
   ]
  },
  {
   "cell_type": "markdown",
   "metadata": {},
   "source": [
    "Some things are worth repeating: **MAKE SURE YOU LEARN THESE, THEY ARE SUPER USEFUL!!!**"
   ]
  },
  {
   "cell_type": "markdown",
   "metadata": {},
   "source": [
    "It is important to note that this first code example is **NOT PYTHONIC** (it is written in a style used by many non-Python languages), and that next we are going to introduce the same code change into a more **PYTHONIC** form."
   ]
  },
  {
   "cell_type": "markdown",
   "metadata": {},
   "source": [
    "## The second code example -- getting pythonic"
   ]
  },
  {
   "cell_type": "code",
   "execution_count": 2,
   "metadata": {
    "collapsed": false
   },
   "outputs": [
    {
     "name": "stdout",
     "output_type": "stream",
     "text": [
      "Doctor Strange    vs.    The Dread Dormammu\n",
      "to the death!!!\n",
      "\n",
      "Obi-Wan Kenobi    vs.    Darth Vader\n",
      "to the death!!!\n",
      "\n",
      "Homer Simpson    vs.    Mr. Burns\n",
      "to the death!!!\n",
      "\n",
      "Sarah Connor    vs.    The T-1000 Terminator\n",
      "to the death!!!\n",
      "\n"
     ]
    }
   ],
   "source": [
    "# epic_battle_pythonic_1.py -- the second iteration, and the first pythonic one\n",
    "\n",
    "heroes = ['Doctor Strange', 'Obi-Wan Kenobi', \n",
    "            'Homer Simpson', 'Sarah Connor']\n",
    "\n",
    "villains = ['The Dread Dormammu', 'Darth Vader', \n",
    "            'Mr. Burns', 'The T-1000 Terminator']\n",
    "\n",
    "for hero, villain in zip(heroes, villains):\n",
    "    print hero,\n",
    "    print '   vs.   ',\n",
    "    print villain\n",
    "    print \"to the death!!!\"\n",
    "    print"
   ]
  },
  {
   "cell_type": "markdown",
   "metadata": {},
   "source": [
    "Here we introduced several new concepts:\n",
    "1. The **tuple**. The simplest tuple is an ordered pair, eg (1, 2). A tuple is like a list, but it is [**immutable**](https://docs.python.org/2/reference/datamodel.html). It can hold just about anything in general. \n",
    "2. The **zip()** function, another Python built-in. It creates a list of tuples from its arguments (this is called 'packing'). Try creating some lists and calling zip() on them to see what they return.\n",
    "3. Tuple **unpacking**. Tuples get easily unpacked when you are ready to use what's in them. You'll see some examples right below this list.\n",
    "4. The **pythonic for loop**. Index variables are often unnecessary (and when they are, there is a more pythonic way to use them than what we did in the first code example). Here is a for loop that uses **zip()** together with **unpacking.** This is more pythonic. One of the advantages of pythonic code is that it is more readable (but this is not the only advantage). "
   ]
  },
  {
   "cell_type": "code",
   "execution_count": 7,
   "metadata": {
    "collapsed": false
   },
   "outputs": [
    {
     "name": "stdout",
     "output_type": "stream",
     "text": [
      "a = 1\n",
      "b = 2\n",
      "\n",
      "After swapping:\n",
      "a = 2\n",
      "b = 1\n",
      "\n",
      "Joe has 5 nickels.\n",
      "Mary has 7 nickels.\n",
      "Alex has 2 nickels.\n"
     ]
    }
   ],
   "source": [
    "# Tuple unpacking examples\n",
    "# Note: Below I'll use Python's built-in function, str().\n",
    "# This is necessary when I want to build a string that includes integer values;\n",
    "# first, the integer must be converted to a string. This is the job description of str().\n",
    "\n",
    "a, b = 1, 2\n",
    "print \"a = \" + str(a)\n",
    "print \"b = \" + str(b)\n",
    "print\n",
    "# This is implicit packing and unpacking. On the right hand side, the values get packed into a tuple.\n",
    "# On the left hand side, that tuple is unpacked into the variables named 'a' and 'b'.\n",
    "# This is called 'multiple assignment.'\n",
    "\n",
    "a, b = b, a\n",
    "print \"After swapping:\"\n",
    "print \"a = \" + str(a)\n",
    "print \"b = \" + str(b)\n",
    "print\n",
    "# It's easy to swap variables with Python's multiple assignment syntax. In most other languages,\n",
    "# you need three steps and the use of a dummy variable.\n",
    "\n",
    "nickels = [('Joe', 5), ('Mary', 7), ('Alex', 2)]\n",
    "who, how_many = nickels[0] # who = 'Joe', how_many = 5\n",
    "\n",
    "for who, how_many in nickels:\n",
    "    print who + \" has \" + str(how_many) + \" nickels.\""
   ]
  },
  {
   "cell_type": "markdown",
   "metadata": {},
   "source": [
    "What's happening here?"
   ]
  },
  {
   "cell_type": "markdown",
   "metadata": {},
   "source": [
    "4. cont\n",
    "5. cont"
   ]
  }
 ],
 "metadata": {
  "kernelspec": {
   "display_name": "Python 2",
   "language": "python",
   "name": "python2"
  },
  "language_info": {
   "codemirror_mode": {
    "name": "ipython",
    "version": 2
   },
   "file_extension": ".py",
   "mimetype": "text/x-python",
   "name": "python",
   "nbconvert_exporter": "python",
   "pygments_lexer": "ipython2",
   "version": "2.7.12"
  }
 },
 "nbformat": 4,
 "nbformat_minor": 0
}
