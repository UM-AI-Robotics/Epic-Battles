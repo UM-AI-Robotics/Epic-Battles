{
 "cells": [
  {
   "cell_type": "markdown",
   "metadata": {},
   "source": [
    "# Epic Battles -- Why is Python so awesome? (Week 2)"
   ]
  },
  {
   "cell_type": "markdown",
   "metadata": {},
   "source": [
    "## Making Epic Battles even more pythonic"
   ]
  },
  {
   "cell_type": "markdown",
   "metadata": {},
   "source": [
    "Armed with new knowledge about **`lists`, pythonic `for` loops, `tuples`, built-in functions** such as **`zip()`** and **`type()`**, the **`random`** library, **sorting,** and how to use **IPython** to explore and learn more--not to mention all the awesome powers that come with this knowledge--what now?\n",
    "\n",
    "Let's start with some more code examples. These have some slightly tricky stuff, so if the tricks are new to you, they may blow your mind a little bit. That's okay. Epic Arena has a well-trained, well-staffed blown brain cleanup crew (BBCC). If you are squeamish, just close your eyes and think happy thoughts while the BBCC gets it done. Your brain, somebody else's, what does it matter, as long as they pack it back nice and good as new?\n",
    "\n",
    "For the time being, we are going to write code with the same **behavior**--which, for a brief moment, you can think of simply as the output--but write it in even more **pythonic** ways than we did in Code Example 1-2. After that, we will start adding new behavior, which will make the program even more awesome. More awesome how? Well, there are many ways to improve it, but for today we are going to emphasize techniques that give the **user** and the **developer** better **control** over the input and the output. \n",
    "\n",
    "In programming, it's important to understand the difference between **coding** and **behavior**. **Behavior** refers to what the program does, but it can also refer to how it does it. For instance, here is a description of the **behavior** of Epic Battles (so far):  \n",
    "* Set up some matches between a group of heroes and their arch-villains  \n",
    "* Announce the matches one by one  \n",
    "\n",
    "Now in **coding** this behavior, we've made some design decisions:  \n",
    "* We used Python (of course!!)  \n",
    "* We represented the heroes and the villains using strings in a `list`  \n",
    "* We used a `for` loop to iterate over the lists and `print` each announcement to the screen  \n",
    "* We used `zip()` to generate `(hero, villain) tuples` in the `for` loop, and `tuple` unpacking to extract them  \n",
    "\n",
    "As you study the examples below, think about where our changes fit into this whole **behavior vs. coding** scheme. A hint is that the examples in this section are mostly about the **coding style,** while the examples in the next section are about adding new **behaviors**. At the end of the lesson, we'll come back and take stock of these ideas again."
   ]
  },
  {
   "cell_type": "markdown",
   "metadata": {},
   "source": [
    "### Code Example 2-1"
   ]
  },
  {
   "cell_type": "code",
   "execution_count": 1,
   "metadata": {
    "collapsed": false
   },
   "outputs": [
    {
     "name": "stdout",
     "output_type": "stream",
     "text": [
      "Doctor Strange vs. The Dread Dormammu \n",
      " to the death!!!\n",
      "\n",
      "Obi-Wan Kenobi vs. Darth Vader \n",
      " to the death!!!\n",
      "\n",
      "Homer Simpson vs. Mr. Burns \n",
      " to the death!!!\n",
      "\n",
      "Sarah Connor vs. The T-1000 Terminator \n",
      " to the death!!!\n",
      "\n"
     ]
    }
   ],
   "source": [
    "heroes = ['Doctor Strange', 'Obi-Wan Kenobi', \n",
    "            'Homer Simpson', 'Sarah Connor']\n",
    "\n",
    "villains = ['The Dread Dormammu', 'Darth Vader', \n",
    "            'Mr. Burns', 'The T-1000 Terminator']\n",
    "\n",
    "announcement_str = \"{} vs. {} \\n to the death!!!\"\n",
    "for hero, villain in zip(heroes, villains):\n",
    "    print announcement_str.format(hero, villain)\n",
    "    print"
   ]
  },
  {
   "cell_type": "markdown",
   "metadata": {},
   "source": [
    "### Code Example 2-2"
   ]
  },
  {
   "cell_type": "code",
   "execution_count": 2,
   "metadata": {
    "collapsed": false
   },
   "outputs": [
    {
     "name": "stdout",
     "output_type": "stream",
     "text": [
      "Doctor Strange vs. The Dread Dormammu \n",
      " to the death!!!\n",
      "\n",
      "Obi-Wan Kenobi vs. Darth Vader \n",
      " to the death!!!\n",
      "\n",
      "Homer Simpson vs. Mr. Burns \n",
      " to the death!!!\n",
      "\n",
      "Sarah Connor vs. The T-1000 Terminator \n",
      " to the death!!!\n",
      "\n"
     ]
    }
   ],
   "source": [
    "heroes = ['Doctor Strange', 'Obi-Wan Kenobi', \n",
    "            'Homer Simpson', 'Sarah Connor']\n",
    "\n",
    "villains = ['The Dread Dormammu', 'Darth Vader', \n",
    "            'Mr. Burns', 'The T-1000 Terminator']\n",
    "\n",
    "matches = zip(heroes, villains)\n",
    "announce_str = \"{} vs. {} \\n to the death!!!\\n\"\n",
    "announcements = [ announce_str.format(hero, villain) for hero, villain in matches ]\n",
    "for announcement in announcements:\n",
    "    print announcement"
   ]
  },
  {
   "cell_type": "markdown",
   "metadata": {},
   "source": [
    "WHAT THE HECK IS GOING ON HERE!! Well, I'll explain, but I highly recommend that first, you run these examples in an IPython console and explore the results using **`%whos`**, **tab completion** with the **dot operator**, and the other tricks I showed you in the second video from the last lesson.\n",
    "\n",
    "**Code Example 2-1** introduces something called [string formatting](https://pyformat.info/). **Code Example 2-2** introduces something called a [list comprehension](http://www.python-course.eu/list_comprehension.php). We'll explain more about these two topics in a moment. But for now, let it suffice to say that these two techniques are ***very* pythonic!**\n",
    "\n",
    "**HERE IS A WORD.** A word about online resources for Python: Python 3 has been out since 2008, but Python 2 is still being widely used. And we are using Python 2. Why?? Isn't 3 better than 2? Or is something wrong with Python 3? \n",
    "\n",
    "OK. Before reading any further, please google \"GvR BDFL\" and find out who GvR is and why he is the Python community's BDFL. After doing this, you will also know what the heck GvR and BDFL mean.\n",
    "\n",
    "To get complete answers to questions of the Python 2 vs Python 3 ilk, you are going to need to do some of your own research online.  The short answer as to why we are using Python 2 is 1) A significant minority of Python users and developers were not happy with the changes in Python 3. In their view, nothing is wrong with Python 2 and it didn't need fixing. So there are significant libraries that are being developed in Python 2 to this day, and some of these libraries are great for AI and robotics. 2) GvR and his friends have promised to support Python 2.7.12 until 2020.\n",
    "\n",
    "In my opinion, Python 3 has a lot of cool features and I am not in the camp of those who don't like it. However, many times, when there are two choices A & B, it can be easier to learn A then B than it is to learn B then A. Examples of this are acoustic vs electric guitars, stick shifts vs automatic transmissions, and manual vs electric typewriters **(What the heck is a TYPEWRITER??!! Only old people and Google can tell you. Or maybe a museum.)**  In my opinion, this is also true of Python 2 vs Python 3. So my advice for general programming education is to learn Python 2 first and then learn Python 3 on your own--you can even set up your computer to have independent environments so that you can play with, build with, and learn both. This way you are going to have maximum options when it comes to using other peoples' code, and you will have better knowledge about how to adapt their code to fit your needs."
   ]
  },
  {
   "cell_type": "markdown",
   "metadata": {},
   "source": [
    "### Python string formatting"
   ]
  },
  {
   "cell_type": "markdown",
   "metadata": {},
   "source": [
    "Due to the Python 2 vs Python 3 thing, and to other stuff as well, there is more than one way to format a string for printing. For today, we are going to look at the approach that is explained [here](https://docs.python.org/2/library/string.html#format-string-syntax). By the way, extra credit if you can tell me what inspired the examples in this section of the Python 2 documentation. (The name of the programming language is a big hint!)\n",
    "\n",
    "**By the way,** we really haven't covered Python **strings** yet. There is a lot we could say, but if we did, we would get bogged down with all the cool things strings can do, whereas I want us to do even cooler things and learn all the stuff about lists, strings, dictionaries, formatting, list comprehensions, user input, and file reading and writing along the way (there's more but that should be enough for today). I realize that this could take us out of one type of quicksand and get us bogged down with another. But there is a way to stay out of the quicksand: 1) Google stuff! 2) Use the IPython tricks learned in last week's [video](https://www.youtube.com/watch?v=H-rcGV35n9w)! Some people may still fall into quicksand, but I am hoping that at least some of you will learn how not to, and then you'll be able to help me get the others out. If this doesn't work, and everyone falls in, then I'll use a different approach. But if this approach works, we can move a lot more quickly. So I think it is worth the risk to try it."
   ]
  },
  {
   "cell_type": "markdown",
   "metadata": {},
   "source": [
    "So now with the oh-how-I-love-a-good-pre-ramble out of the way, back to **string formatting.** We have seen normal strings--known as **string literals**--such as\n",
    "\n",
    "    'Doctor Strange'\n",
    "    'Obi-wan Kenobi'\n",
    "    'Homer Simpson'\n",
    "    'Sarah Connor'\n",
    "    \n",
    "and we have also learned that\n",
    "\n",
    "    heroes[0]        # Evaluates to 'Doctor Strange'\n",
    "    villains[3]      # Evaluates to 'The T-1000 Terminator'\n",
    "\n",
    "are variables that refer to strings. Now a **format string** is a string that has **literal text** (like the strings above) as well as **replacement fields** surrounded by **curly braces.**\n",
    "\n",
    "    fs_example = \"Here is a {} format string.\"\n",
    "    \n",
    "Now you may have discovered already that the Python **str** class has a build-in method called **.format(),** and if you used the question mark trick (or you could also use Python's built-in **help function**), then you may even know how it works already. Or you could be a pro, and you learned it a long time ago, so I better be nice to you or you're out of here, but if you are too smart for me to teach you anything, I can at least hope to entertain you enough to keep you around so you can teach me something good. After all, I will (try to) pass it on to other *Homo sapiens* who yearn for Python wisdom, so if you make me smarter, you're just helping humanity, aren't you?\n",
    "\n",
    "    print fs_example.format(\"very nice\")\n",
    "    print fs_example.format(\"bleeping\")\n",
    "\n",
    "OK, I've left an empty code cell below. Actually, it's not empty, because it has comments starting with '#', but the Python interpreter ignores comments, so as far as the interpreter is concerned, it is empty. OK, so it's not, but it is?? Right. I'm going to hush up about that now. Anyway, try typing or cutting/pasting these three lines of code (starting with `fs_example = ...`) into the code cell and running it, and see what happens. But before you do, what do you think the output will be?"
   ]
  },
  {
   "cell_type": "code",
   "execution_count": 3,
   "metadata": {
    "collapsed": false
   },
   "outputs": [],
   "source": [
    "# COPY AND PAST CODE INTO THIS CELL\n",
    "# THEN HIT THE 'RUN' BUTTON ABOVE\n",
    "# OR CHOOSE 'RUN' FROM THE 'CELL' MENU\n",
    "# OR TYPE CTRL-ENTER (OR SHIFT-ENTER)\n",
    "\n"
   ]
  },
  {
   "cell_type": "markdown",
   "metadata": {},
   "source": [
    "[Oh this is candy, we are having fun!](https://www.youtube.com/watch?v=El4tHP5HdPA). (If you like the video link, please remind me to add Austin Powers, Vanessa Kensington, Dr. Evil and Frau Farbissina into our battle line-ups.)"
   ]
  },
  {
   "cell_type": "markdown",
   "metadata": {},
   "source": [
    "Looking at Code Example 2-1 above, you can see that we have a **formatting string** named `announcement_str` that has two **replacement fields**--as indicated by the `{}`--one for the hero and one for the villain:  \n",
    "\n",
    "    announcement_str = \"{} vs. {} \\n to the death!!!\"\n",
    "    \n",
    "It also has `\\n` which represents the newline character. The backslash `\\\\` tells the interpreter to interpret the next character(s) as an [**escape code**](http://python-reference.readthedocs.io/en/latest/docs/str/escapes.html). The backslash plus an escape code is known as an **escape sequence**. \n",
    "\n",
    "Why is this an improvement? Using a **formatting string** in our code\n",
    "* Reduces four `print` statements to a single `print` statement;\n",
    "* Makes the announcement template explicit, and therefore easier to read and modify;\n",
    "* Allows us to put the text for the announcement near the beginning of the code rather than inside the `for` loop. For a short code segment like this one, this is not a big deal, but for a long program, it can be really, really helpful.  \n",
    "\n",
    "**Formatting strings** also have other useful features that you can find out about in the link I gave you above, in the first paragraph of this section. They are an elegant way to give the programmer good control of how to display text and numbers on the screen, and they have more subtle uses which you will discover along your journey to becoming a **Pythonista.**"
   ]
  },
  {
   "cell_type": "markdown",
   "metadata": {},
   "source": [
    "### List comprehensions"
   ]
  },
  {
   "cell_type": "markdown",
   "metadata": {},
   "source": [
    "What are **list comprehensions**? Well, first off, **list comprehensions** are awesome. OK, so you know I really like Python, so of course I'd say that, but what I mean is, if we have already adjusted to Python's awesomeness, and have managed to get ourselves together and calm down a bit, then **list comprehensions** will be yet another level of awesomeness. So get ready to be happy.  \n",
    "\n",
    "All right, what's a **list comprehension** good for? Actually, there is nothing a list comprehension can do that can't be done with plain old `for` loops. Sometimes **list comprehensions** are disparaged a bit as mere **syntactic sugar**, and there is some truth in this complaint, but sugar artfully used can result in a delicacy. The syntax of list comprehensions accomplishes at least two things:\n",
    "* It makes code more concise\n",
    "* It makes code clearer and more readable\n",
    "\n",
    "These two qualities, conciseness and readability, are very important for your journey towards a deep understanding of the meaning of the word **pythonic**. These qualities are not all that is meant by **pythonic**, but they're a hugley significant piece of it. GvR estimated that programmers spend about 80% of their time **reading** rather than **writing** code, so syntax that improves readability can have a huge payoff. **Pythonic** code uses **syntactic sugar** and other **idioms**, clever conventions for variable names, and a few other strategies to make well-written Python code read almost like plain English. \n",
    "\n",
    "OK. Here is some code that uses a list comprehension:  \n",
    "\n",
    "    from math import pi\n",
    "    radii = [2, 3, 7]\n",
    "    circumferences = [2*pi*r for r in radii]\n",
    "    \n",
    "The behavior of this code is to take a list of circle radii and then use it to build a list of circumferences. The list comprehension is in the last line, on the right hand side of the equals sign. If we used a plain old `for` loop, we would need to replace the last line with\n",
    "\n",
    "    circumferences = []\n",
    "    for r in radii:\n",
    "        circumferences.append(2*pi*r)\n",
    "\n",
    "This operation, building one list by performing some operation on each element of another list, is so common, that the list comprehension syntax was created to simplify. So in this case, 3 lines of code becomes one. This makes the code easier to write, but it also simplifies reading, don't you think? \n",
    "\n",
    "OK, so maybe this example isn't so amazing. But this is a rather simple example. So if you are new to Python, and unimpressed, trust me, young Skywalker, you don't know the power of the list comprehension. But you will. You **will**."
   ]
  },
  {
   "cell_type": "markdown",
   "metadata": {},
   "source": [
    "So in **Code Example 2-2,** we find the following **list comprehension**:\n",
    "\n",
    "    announcements = [ announce_str.format(hero, villain) for hero, villain in matches ]\n",
    "    \n",
    "where `matches` is a previously define list of tuples created by using `zip()` on `heroes` and `villains`. It wasn't necessary to do this--I could have just put `zip(heroes, villains)` instead of `matches`, but using a variable makes the line of code shorter and slightly more readable, and the meaningful name gives the reader a little more information about what is going on. By the way, I'm going to ask you to learn something (else) on your own--what are the rules for valid variable names in Python? Google up. \n",
    "\n",
    "(Also, there are **rules**--if you break them, your code won't work--but there are also **suggestions**--if you break them, your code will work but your code won't be as pythonic. **Extra credit:** what is the four-character name of the original Python style document?)\n",
    "\n",
    "So now `announcements` will be a list containing strings, the same strings that have been output by the earlier versions of this code. Rather than iterating over the zipped up lists, the `for` loop just iterates over the strings to be printed. Is this inefficent? Aren't we using two `for` loops now, when we only need one? Won't that  take longer?\n",
    "\n",
    "Well, actually, it will. But the difference is oftentimes really, really small compared to the benefit obtained. There are times when you will want to use the `for` loop approach instead, but you will find many cases where list comprehensions are perfect for the job."
   ]
  },
  {
   "cell_type": "markdown",
   "metadata": {},
   "source": [
    "OK, after **Code Examples 2-1** and **2-2,** how has the **coding** changed from before? \n",
    "\n",
    "Remember, in **Code Example 1-2** we had the following design:\n",
    "* We used Python (of course!!)  \n",
    "* We represented the heroes and the villains using strings in a `list`  \n",
    "* We used a `for` loop to iterate over the lists and `print` each announcement to the screen  \n",
    "* We used `zip()` to generate `(hero, villain) tuples` in the `for` loop, and `tuple` unpacking to extract them\n",
    "\n",
    "Now, after **Code Example 2-2** the first two bullets are the same, but then instead of the last two, we have the following:\n",
    "* We used a list comprehension and a format string to generate a `list` of announcement strings\n",
    "* We used a `for` loop to iterate of the announcements and print each one\n",
    "\n",
    "Now as far as the **output behavior** goes, there has been no change. Note, however, that we have created new variables,\n",
    "\n",
    "    matches\n",
    "    announce_str\n",
    "    announcements\n",
    "    \n",
    "and technically speaking, this constitutes a change in **hidden behavior.** Behavior is not just what the user sees, but also how the **state** of objects change. Any **statement** changes the **state** of something--[as opposed to an **expression**](http://stackoverflow.com/questions/4728073/what-is-the-difference-between-an-expression-and-a-statement-in-python), which simply **evaluates** to some value--and this change is what we mean by a **behavior**. But these changes produce no **visible** change in the behavior; they are \"under the hood.\"\n",
    "\n",
    "So now, in this lesson and the next one, we are going to add some new behaviors that are visible to the user:\n",
    "1. **Input** -- from the console or from a **file**\n",
    "2. **Output** to a **file**\n",
    "3. **Associating** objects using a **dictionary** and using those associations in our output\n",
    "\n",
    "To make better use of these new behaviors, we are also going to learn how to use **boolean** variables and **if** and **while statements** to control the flow of execution in our program. No links provided this time, so get your Google on."
   ]
  },
  {
   "cell_type": "markdown",
   "metadata": {},
   "source": [
    "## Making Epic Battles even more epic"
   ]
  },
  {
   "cell_type": "markdown",
   "metadata": {},
   "source": [
    "### Code Example 2-3 -- Input from the console"
   ]
  },
  {
   "cell_type": "code",
   "execution_count": 4,
   "metadata": {
    "collapsed": false
   },
   "outputs": [
    {
     "name": "stdout",
     "output_type": "stream",
     "text": [
      "Would you like to add any more heroes and villains? N\n",
      "\n",
      "============\n",
      "\n",
      "Doctor Strange vs. Mr. Burns \n",
      " to the death!!!\n",
      "\n",
      "Obi-Wan Kenobi vs. The Dread Dormammu \n",
      " to the death!!!\n",
      "\n",
      "Homer Simpson vs. The T-1000 Terminator \n",
      " to the death!!!\n",
      "\n",
      "Sarah Connor vs. Darth Vader \n",
      " to the death!!!\n",
      "\n"
     ]
    }
   ],
   "source": [
    "from random import shuffle\n",
    "\n",
    "heroes = ['Doctor Strange', 'Obi-Wan Kenobi', \n",
    "            'Homer Simpson', 'Sarah Connor']\n",
    "\n",
    "villains = ['The Dread Dormammu', 'Darth Vader', \n",
    "            'Mr. Burns', 'The T-1000 Terminator']\n",
    "\n",
    "\n",
    "choose = raw_input(\"Would you like to add any more heroes and villains? \")\n",
    "choose = choose.upper()\n",
    "if choose.startswith(\"Y\"):\n",
    "    while choose == \"Y\":\n",
    "        hero = raw_input(\"New hero: \")\n",
    "        heroes.append(hero)\n",
    "        villain = raw_input(\"New villain: \")\n",
    "        villains.append(villain)\n",
    "        choose = raw_input(\"Add more? \").upper()\n",
    "\n",
    "print \"\\n============\\n\"\n",
    "\n",
    "shuffle(villains)\n",
    "matches = zip(heroes, villains)\n",
    "announce_str = \"{} vs. {} \\n to the death!!!\\n\"\n",
    "announcements = [ announce_str.format(hero, villain) for hero, villain in matches ]\n",
    "for announcement in announcements:\n",
    "    print announcement"
   ]
  },
  {
   "cell_type": "markdown",
   "metadata": {},
   "source": [
    "This is our trickiest example yet. If you are new to programming, it may require a **lot** of executing, exploring using `%whos` etc., and googling. Sorry, but if I try to spoonfeed you everything, you won't learn to use a spoon, and I'll just go crazier. Besides, there is no spoon.\n",
    "\n",
    "OK, so there are a number of important points to be made here:\n",
    "* **`raw_input().`** This is a Python built-in. Pass it a string, and it will display that string as a prompt, wait for user input terminated by `Enter`, and then return the input as a string (minus the `Enter`).\n",
    "* **`bool`, the Boolean type.** Python has two built-in objects, `True` and `False` that are used as values for conditional tests. \n",
    "* **`if` statement.** `if` begins a **control flow statement** that contains a conditional expression, and if that expression evaluates to `True`, the code block beneath the `if` statement is executed. There are other topics to be covered when learning about `if` statements, such as **`else`** and **`elif`** statements--if you want to know what these do right now, you know what to do. Either way, we'll come back to these later. \n",
    "* **`while` statement.** Another **control flow statement** that loops over a code block as long as its conditional expression evaluates to `True`. \n",
    "* **Indentation.** We haven't discussed indentation yet, but it's a big and important topic. Briefly, Python uses indentation to delineate code blocks. If you are coming from another programming language, it will perhaps seem odd that **white space at the beginning of a line of code is syntactically important.** What does that mean? Well for starters, it means that if you do not indent properly, you will probably get errors. Secondly, it means that when you write code meant to be in the body of a `for` loop, `if` statement, or `while` statement, that code needs to be in an indented block below the `for`, `if` or `while` line. **Notice also that you must end these statements with a colon** and then start the indented code block on the next line. There are **rules** and **suggestions** about indentation--we'll say more later.\n",
    "* **New methods.** We've introduced several new methods in this code example, one for `list` objects, and two for strings. Please check them out with your own there-is-no-spoon."
   ]
  },
  {
   "cell_type": "markdown",
   "metadata": {},
   "source": [
    "### Code Example 2-4 -- Input from a file"
   ]
  },
  {
   "cell_type": "code",
   "execution_count": 5,
   "metadata": {
    "collapsed": false
   },
   "outputs": [
    {
     "name": "stdout",
     "output_type": "stream",
     "text": [
      "Would you like to add any more heroes and villains? N\n",
      "\n",
      "============\n",
      "\n",
      "Doctor Strange\n",
      " vs. Mr. Burns\n",
      " \n",
      " to the death!!!\n",
      "\n",
      "Obi-Wan Kenobi\n",
      " vs. The T-1000 Terminator\n",
      " \n",
      " to the death!!!\n",
      "\n",
      "Homer Simpson\n",
      " vs. Darth Vader\n",
      " \n",
      " to the death!!!\n",
      "\n",
      "Sarah Connor\n",
      " vs. The Dread Dormammu\n",
      " \n",
      " to the death!!!\n",
      "\n"
     ]
    }
   ],
   "source": [
    "from random import shuffle\n",
    "\n",
    "with open('files/heroes.txt') as hero_file:\n",
    "    heroes = hero_file.readlines()\n",
    "\n",
    "with open('files/villains.txt') as villain_file:\n",
    "    villains = villain_file.readlines()\n",
    "\n",
    "choose = raw_input(\"Would you like to add any more heroes and villains? \")\n",
    "choose = choose.upper()\n",
    "if choose.startswith(\"Y\"):\n",
    "    while choose == \"Y\":\n",
    "        hero = raw_input(\"New hero: \")\n",
    "        heroes.append(hero)\n",
    "        villain = raw_input(\"New villain: \")\n",
    "        villains.append(villain)\n",
    "        choose = raw_input(\"Add more? \").upper()\n",
    "\n",
    "print \"\\n============\\n\"\n",
    "\n",
    "shuffle(villains)\n",
    "matches = zip(heroes, villains)\n",
    "announce_str = \"{} vs. {} \\n to the death!!!\\n\"\n",
    "announcements = [ announce_str.format(hero, villain) for hero, villain in matches ]\n",
    "for announcement in announcements:\n",
    "    print announcement"
   ]
  },
  {
   "cell_type": "markdown",
   "metadata": {},
   "source": [
    "Wow! What just happened? What's going on with that `with` thing? And how did the output get all screwed up with those extra lines??\n",
    "\n",
    "OK. I'll admit, that's kind of a lot to throw at you, but you've gotten this far, which proves you are made of hardy stuff. No run-of-the-mill budding Pythonista are you. You are **not** going to let this beat you. So **get a grip!!** Here's a summary of what's changed from **Code Example 2-3:**\n",
    "* **`with` statements.** A `with` statement introduces something called a **context manager.** This is an advanced topic, and if you want to dive in, a good intro is found [here](https://jeffknupp.com/blog/2016/03/07/python-with-context-managers/). But for now, it's enough to think of this as a standard way to get stuff from a file. There are subtleties upon subtleties, but we are going to dodge them for now.\n",
    "* **`open()` and `file` objects.** The Python's built-in `open()` method returns a `file` object. We are calling `open()` using the **default mode**, and using a single method of the `file` object class, `.readlines().` There are several other modes for using `open()`, and `file` objects have a number of methods besides `.readlines()`, which you know how to explore to your heart's content. \n",
    "* **File pathnames.** Google will help, but this can be tricky. I am running this notebook on Linux, but if you are on a Windows machine, it's *possible* that the code above will give you something called an **`IOError`.** I have a Windows 7 machine, and the code runs okay on it, but Linux and Windows use different separators in their file paths, and this has caused all manner of problems for ages untold. If you have a problem that you can't solve by yourself, please write me at s-f-s-t-r-a-i-n a-t m-e-m-p-h-i-s d-o-t e-d-u (if I have to tell you to remove the dashes, then you are probably a robot, in which case please **don't** write)."
   ]
  },
  {
   "cell_type": "markdown",
   "metadata": {},
   "source": [
    "All right. Now what about those extra lines? Why doesn't the output look like it did before, in **Code Example 2-3?** After poking around some, you may have decided to look at the contents of `heroes` after the code has run:  \n",
    "\n",
    "    In []: heroes\n",
    "    Out[]: ['Doctor Strange\\n', 'Obi-Wan Kenobi\\n', 'Homer Simpson\\n', 'Sarah Connor\\n']\n",
    "  \n",
    "There are newline characters at the end of each string!! Where did they come from??\n",
    "\n",
    "Well, unlike in previous examples, here we got the `heroes` variable from calling `.readlines()` on the file object in our `with` code block. Here is the `docstring` for `.readlines()`:\n",
    "\n",
    "        readlines([size]) -> list of strings, each a line from the file.\n",
    "\n",
    "        Call readline() repeatedly and return a list of the lines so read.\n",
    "        The optional size argument, if given, is an approximate bound on the\n",
    "        total number of bytes in the lines returned.\n",
    "        Type:      method_descriptor\n",
    "\n",
    "As can see, this method is repeatedly calling another method, `.readline().` So here is the `docstring` for `.readline()`:\n",
    "\n",
    "        readline([size]) -> next line from the file, as a string.\n",
    "\n",
    "        Retain newline.  A non-negative size argument limits the maximum\n",
    "        number of bytes to return (an incomplete line may be returned then).\n",
    "        Return an empty string at EOF.\n",
    "        Type:      method_descriptor\n",
    "\n",
    "Note the words, `Retain newline.` That's kind of cryptic, but it means that since there is a newline character at the end of every line in the file, that newline character will be retained in the string returned by `.readline()`. \n",
    "\n",
    "But we don't want it! So, let's use an old trick to remove it: yes, the illustrious and magnificent **list comprehension!!!** Also, it's helpful to know about the string object class's **.strip()** method, which removes trailing and leading white space (including newline characters) from strings."
   ]
  },
  {
   "cell_type": "code",
   "execution_count": 6,
   "metadata": {
    "collapsed": false
   },
   "outputs": [
    {
     "name": "stdout",
     "output_type": "stream",
     "text": [
      "['Doctor Strange', 'Obi-Wan Kenobi', 'Homer Simpson', 'Sarah Connor']\n"
     ]
    }
   ],
   "source": [
    "heroes = [ h.strip() for h in heroes]\n",
    "print heroes"
   ]
  },
  {
   "cell_type": "markdown",
   "metadata": {},
   "source": [
    "Sweeeeet! Don't forget, this also needs to be done for `villains` as well. So now we have\n",
    "### Code Example 2-4.1 -- Output fixed!"
   ]
  },
  {
   "cell_type": "code",
   "execution_count": 7,
   "metadata": {
    "collapsed": false
   },
   "outputs": [
    {
     "name": "stdout",
     "output_type": "stream",
     "text": [
      "Would you like to add any more heroes and villains? N\n",
      "\n",
      "============\n",
      "\n",
      "Doctor Strange vs. The T-1000 Terminator \n",
      " to the death!!!\n",
      "\n",
      "Obi-Wan Kenobi vs. Mr. Burns \n",
      " to the death!!!\n",
      "\n",
      "Homer Simpson vs. Darth Vader \n",
      " to the death!!!\n",
      "\n",
      "Sarah Connor vs. The Dread Dormammu \n",
      " to the death!!!\n",
      "\n"
     ]
    }
   ],
   "source": [
    "from random import shuffle\n",
    "\n",
    "with open('files/heroes.txt') as hero_file:\n",
    "    heroes = hero_file.readlines()\n",
    "\n",
    "with open('files/villains.txt') as villain_file:\n",
    "    villains = villain_file.readlines()\n",
    "\n",
    "heroes = [h.strip() for h in heroes]    \n",
    "villains = [v.strip() for v in villains]\n",
    "\n",
    "choose = raw_input(\"Would you like to add any more heroes and villains? \")\n",
    "choose = choose.upper()\n",
    "if choose.startswith(\"Y\"):\n",
    "    while choose == \"Y\":\n",
    "        hero = raw_input(\"New hero: \")\n",
    "        heroes.append(hero)\n",
    "        villain = raw_input(\"New villain: \")\n",
    "        villains.append(villain)\n",
    "        choose = raw_input(\"Add more? \").upper()\n",
    "\n",
    "print \"\\n============\\n\"\n",
    "\n",
    "shuffle(villains)\n",
    "matches = zip(heroes, villains)\n",
    "announce_str = \"{} vs. {} \\n to the death!!!\\n\"\n",
    "announcements = [ announce_str.format(hero, villain) for hero, villain in matches ]\n",
    "for announcement in announcements:\n",
    "    print announcement"
   ]
  },
  {
   "cell_type": "markdown",
   "metadata": {},
   "source": [
    "OK, that's enough for today. Before we go, let's take stock of changes to our code's behavior and design.\n",
    "\n",
    "As of **Code Example 2-2,** we had the following behavior:\n",
    "* Set up some matches between a group of heroes and their arch-villains  \n",
    "* Announce the matches one by one  \n",
    "\n",
    "And we had the following design:\n",
    "* Represent the heroes and the villains using strings in a list\n",
    "* Use a list comprehension and a format string to generate a list of announcement strings\n",
    "* Use a for loop to iterate of the announcements and print each one to the screen\n",
    "\n",
    "NOW, after **Code Example 2-4.1,** we have new behavior:\n",
    "* Set up some matches between a group of heroes and their arch-villains\n",
    "* Ask the user if she wants to add any more heroes and villains\n",
    "* If he says yes, take input from the console until she is done and add it appropriately\n",
    "* Randomize the matches (we snuck this one in, did you notice? BTW, we covered it last week.)\n",
    "* Announce the matches one by one  \n",
    "\n",
    "And our new design:\n",
    "* Represent the heroes and the villains using strings in a list\n",
    "* Initialize these lists by **inputting from a file**\n",
    "* Take **input from the console** to initialize a loop condition\n",
    "* Conditionally loop over **input from the console** and add input to the lists\n",
    "* Shuffle the list of villains\n",
    "* Use a list comprehension and a format string to generate a list of announcement strings\n",
    "* Use a for loop to iterate of the announcements and print each one to the screen\n",
    "\n",
    "Next time, we'll continue by learning how to process file input in a little more sophisticated way, and introduce some additional features that will make our announcements cooler. Also, we'll learn how to output our announcements to a file instead of the screen. And in the not too distant future, we are going to write code to give play-by-play coverage of the battles themselves!! So do come back next week!!\n"
   ]
  }
 ],
 "metadata": {
  "kernelspec": {
   "display_name": "Python 2",
   "language": "python",
   "name": "python2"
  },
  "language_info": {
   "codemirror_mode": {
    "name": "ipython",
    "version": 2
   },
   "file_extension": ".py",
   "mimetype": "text/x-python",
   "name": "python",
   "nbconvert_exporter": "python",
   "pygments_lexer": "ipython2",
   "version": "2.7.12"
  }
 },
 "nbformat": 4,
 "nbformat_minor": 0
}
