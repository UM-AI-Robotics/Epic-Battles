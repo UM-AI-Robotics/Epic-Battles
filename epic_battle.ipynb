{
 "cells": [
  {
   "cell_type": "markdown",
   "metadata": {},
   "source": [
    "# Epic Battle -- A rapid and dramatic introduction to Python"
   ]
  },
  {
   "cell_type": "markdown",
   "metadata": {},
   "source": [
    "## Part 1: *Goodbye, \"Hello world\"*"
   ]
  },
  {
   "cell_type": "markdown",
   "metadata": {},
   "source": [
    "We are going to learn some Python.\n",
    "\n",
    "We are going to create a simple program in the Python programming language and then use that simple program as a launchpad for a rocket that takes us into the Python stratosphere.\n",
    "\n",
    "Stratosphere is good. Stratosphere is located far, far away from the mud. Mud is not good, at least not for writing computer programs.\n",
    "\n",
    "However, we are going to break tradition. Sometimes tradition is good, because it helps us realize that we are situated in and part of a long history of progress, building on the progress of those that came before us. Sometimes it gives credit where credit is due. Most importantly, perhaps, sometimes it helps us remember a way of doing things that works really well. By \"really well\" I mean so well that you are unlikely to gain much by trying something different, and very likely to come out worse. \n",
    "\n",
    "However, when new technology comes along, the way we traditionally do things may no longer be the best way. In fact, the traditional way may now fall very short of this definition of \"really well.\" Any new technology might change the game. If blind adherence to tradition keeps us from exploring new possibility, then that's not good.\n",
    "\n",
    "In latter half of the 20th century, a tradition began of introducing just about every programming course ever with a simple program that would print, \"Hello world\" on the computer screen. I do not know the history of this tradition--at the time of this writing, the [Wikipedia article](https://en.wikipedia.org/wiki/%22Hello,_World!%22_program) gives inadequate confirmation of its historical claims--only that said tradition has been honored by a great, great many authors. While apparently a very popular tradition, I'm not sure it's really good for anything today. In the age of the internet, there are a great, great many ways of saying hello to the world that are better than writing a program that prints a slightly moronic greeting on a computer screen in Courier font.\n",
    "\n",
    "Therefore, in honor of the new century, let us break with tradition and say goodbye to \"Hello world\"!"
   ]
  },
  {
   "cell_type": "markdown",
   "metadata": {},
   "source": [
    "### A drama..."
   ]
  },
  {
   "cell_type": "markdown",
   "metadata": {},
   "source": [
    "We will begin with a program that is only slightly more complicated than \"Hello world,\" which I have named epic_battles.py. The .py at the end of the filename indicates that the file contains a Python script. \n",
    "\n",
    "So I could have simply called it battles.py, but adding the \"epic\" makes it sound much more dramatic. And drama is good.\n",
    "\n",
    "At least good drama is good, when used wisely (and using things wisely is also good). But if you don't like drama, you can always change the name of the file to battles.py. Or, you can look for another Python tutorial that uses \"Hello world\" instead. There are many of them, and by sticking with tradition you can be assured of evading that particular bit of drama altogether, at the very least. And sorry for the bit about the rocket and the stratosphere.\n",
    "\n",
    "If you are still reading though, then apparently you are not afraid of a little drama. Well, then. Buckle your seatbelts and hold on to your hats! And please keep your hands inside the vehicle at all times. \n",
    "\n",
    "Or not. But do read on. And do try this at home."
   ]
  },
  {
   "cell_type": "markdown",
   "metadata": {},
   "source": [
    "### ...without trauma"
   ]
  },
  {
   "cell_type": "markdown",
   "metadata": {},
   "source": [
    "Seatbelts and hats (especially hard hats) help prevent trauma. So does a lovely creature known as [**IPython**](ipython.org) who has a strong, vibrant Python heart beating inside her chest. More on IPython below. First, a little more preambulating."
   ]
  },
  {
   "cell_type": "markdown",
   "metadata": {},
   "source": [
    "### Hard's not hard anymore, and easy has gotten easier"
   ]
  },
  {
   "cell_type": "markdown",
   "metadata": {},
   "source": [
    "Many programming books I have read are very thorough. They want to make sure they tell you every single thing that you might possibly need to know to use every single expression, statement, and function they introduce. This style of writing has produced some very, very useful books. However, this style was developed during a time when it was really hard to find information about things, so being thoroughly thorough was thoroughly awesome. \n",
    "\n",
    "For instance, if an author introduced you to a data structure known as a **`list`** and didn't tell you that it came ready-built with a method called **`list.sort()`**, it's very likely you wouldn't learn about **`list.sort()`** unless and until you stopped reading, left home, went to the library or bookstore, and found yourself another book with that information. \n",
    "\n",
    "So it was very, very nice if the author decided to put the information about **`sort`** right there in the section about **`list`**, so that you would see it once when you learned about this amazing data structure, and then you could easily (in the pre-internet sense of \"easily\") see it again if you went back and referred to the **`list`** section later.\n",
    "\n",
    "*But when the internet came along, the definitions of \"hard\" and \"easy\" changed.*\n",
    "\n",
    "If I am reading a book that has a section about lists, it is no longer difficult to find a vast amount of reference material instantly, without even leaving my chair. Now it may still be useful to have a book that is very thorough. But it is no longer quite as necessary as it once was, which suggests some new possibilities for authors. \n",
    "\n",
    "One possibility is that an author could write in a way that flows more quickly to some very interesting places, and if the reader gets a little bit lost at some point along the way, she can **easily** re-orient herself with a quick, well-targeted Google search. One might even introduce some very advanced concepts early, for the time being explaining only what they do, and leaving more detailed discussion for later. Thus, a non-beginner will be less bored, and again, the curious beginner can get her Google on.\n",
    "\n",
    "So I am going to try to re-prioritize. The hope is that a beginner will find this tutorial accessible, but do expect it to flow more quickly than other beginning tutorials. As new concepts are introduced, the aim is to provide terms that will help you search readily if you need or want more detail. But I'm not going to sacrifice flow for completeness, because the optimal balance between these two isn't the same as it was  before the internet. Maybe I'll get it wrong, but the potential gain is worth the risk.\n",
    "\n",
    "By the end of this tutorial, which should take no more than an hour or two to complete (and much less if you are a non-beginner), you will have been exposed to concepts that might take up as much as a few weeks in an introductory undergraduate programming course, as well as a few advanced concepts. There will be a lot of useful details that you will not know about without some extra effort. But I believe in you. The Googling force is strong in you. And I will not leave you hanging. There will be many sequels for those lots of useful details, and without Jar Jar Binks. I promise. And that is good.\n",
    "\n",
    "In summary, this tutorial is designed to be used with other tutorials, books, reference materials, and so forth. To this end, there is a list of some particularly helpful links provided at the bottom of this tutorial, but you can find many,** MANY** more:"
   ]
  },
  {
   "cell_type": "markdown",
   "metadata": {},
   "source": [
    "<img src=\"Google_PythonTutorial_Screenshot.jpg\" />"
   ]
  },
  {
   "cell_type": "markdown",
   "metadata": {},
   "source": [
    "Above you can see the first few of Google's **14.8 million hits** for \"python tutorial.\"  Similar multitudes are accessed, for instance, by searching for \"IPython tutorial\", or by searching on Youtube.\n",
    "\n",
    "And there are many, many millions of other ways to **explore**. You can **easily** take advantage of this **virtually inexhaustible** trove of info, **IF** you are willing to explore, even a bit. So..."
   ]
  },
  {
   "cell_type": "markdown",
   "metadata": {},
   "source": [
    "### EXPLORE!!! But also execute..."
   ]
  },
  {
   "cell_type": "markdown",
   "metadata": {},
   "source": [
    "While we are on the subject of exploring, it is useful to mention that IPython supports a workflow known as **execute-and-explore.** (Thank you for point this out, [Wes McKinney](https://github.com/edinburgh-data-science/introduction-data-analysis).)\n",
    "\n",
    "You may be familiar with a programming language that uses an **edit-compile-run** workflow. In case you aren't, this means that you write some *instructions* (the instructions are called *code*) in a text document (this is the *edit* step), give the document to a special program called a compiler (the *compile* step), which then gives you a file known as an *executable.* Then you run the executable (which, you will be shocked to learn, is known as the *run* step), and voila! Your program does its thing.\n",
    "\n",
    "Two salient examples of languages that use the **edit-compile-run** workflow are **Java** and **C++**.  They are quite powerful, and have historically been the workhorses of professional programmers. If you are a professional programmer, you are writing code many hours everyday, and the **edit-compile-run** workflow is not a problem. It may even offer some advantages above and beyond the intrinsic power of the languages themselves.\n",
    "\n",
    "But if you only write code for a few hours every week, or once every few months--as do many scientists, engineers, hobbyists, and other assorted non-programmer flavors of nerd--the **edit-compile-run** workflow can be a bit of a problem. Why is that?\n",
    "\n",
    "First, a one-word answer: **syntax.** To unpack, the code written in the **edit** step must be written according to a very strict set of rules, the *syntax* of the programming language. Every programming language has a strict syntax, without which the computer would never figure out exactly what you want it to do. So why is this fact of syntax more of an issue for **edit-compile-run** than for **execute-and-explore**? "
   ]
  },
  {
   "cell_type": "markdown",
   "metadata": {},
   "source": [
    "### Original syntax"
   ]
  },
  {
   "cell_type": "markdown",
   "metadata": {},
   "source": [
    "Well, **edit-compile-run** requires you to save the code, leave the editor, and then give the code to the compiler. The compiler is stricter than your least favorite high school English teacher. If you don't get all of the syntax exactly right--and I mean **exactly** right--the compiler won't be happy, and you will have to go back to the edit step. If you are a professional programmer, you will quickly learn how to get on the compiler's good side, and your text documents will have few syntax errors. The compiler will still catch everyone you make, but you will be able to correct them quickly and then the compiler will give you your executable. You and the compiler will soon be best friends. Lots of happy.\n",
    "\n",
    "However, if you are not a professional programmer, don't bet the farm on becoming the compiler's pet. You will spent lots and lots of time figuring out how to make the compiler happy, and even then your workflow may devolve into the dreaded **edit-compile-edit-compile-edit-compile-curse.** And woe be unto you. On the bright side, if you are possessed of good self-control, you might successfully refrain from inflicting severe physical damage (aka *trauma*) on your computer hardware. So there's that. But happy? No, no, no. Not unless you figure out how to be satisfied with unhappy. And even then, I'm not sure that qualifies.\n",
    "\n",
    "How does Python's **execute-and-explore** rescue us from this conundrum?\n",
    "\n",
    "Well, if the compiler is your least favorite English teacher, IPython's **interpreter** is the nicest, friendliest, most helpful English tutor you've ever met.\n",
    "\n",
    "OK, good, but what the heck does that mean, exactly?"
   ]
  },
  {
   "cell_type": "markdown",
   "metadata": {},
   "source": [
    "### Waking up from a high school nightmare"
   ]
  },
  {
   "cell_type": "markdown",
   "metadata": {},
   "source": [
    "**WARNING: **This video is PG-13! You may want to ask 13 parents for guidance before watching it? Or something."
   ]
  },
  {
   "cell_type": "code",
   "execution_count": 15,
   "metadata": {
    "collapsed": false
   },
   "outputs": [
    {
     "data": {
      "text/html": [
       "\n",
       "        <iframe\n",
       "            width=\"400\"\n",
       "            height=\"300\"\n",
       "            src=\"https://www.youtube.com/embed/0g7VoRQPswg\"\n",
       "            frameborder=\"0\"\n",
       "            allowfullscreen\n",
       "        ></iframe>\n",
       "        "
      ],
      "text/plain": [
       "<IPython.lib.display.YouTubeVideo at 0x43848d0>"
      ]
     },
     "execution_count": 15,
     "metadata": {},
     "output_type": "execute_result"
    }
   ],
   "source": [
    "from IPython.display import YouTubeVideo\n",
    "YouTubeVideo('0g7VoRQPswg')"
   ]
  },
  {
   "cell_type": "markdown",
   "metadata": {},
   "source": [
    "OK. The question was, \"What the heck does that mean?\" Let's expand the metaphor a bit.\n",
    "\n",
    "The worst teacher in the world never really does any teaching, she just expects you to show up and turn your paper in. Then you have to sit there for a long time and listen to him talk and talk without interrupting (it's called a lecture). Then you have to go home and wait for her to grade your paper. This is where the real nightmare begins. As soon as he finds a mistake, she circles it, adding annotations of angry red crossings out and exclamation marks, stops grading it, writes a big red 'F' on the title page, and hands it back, explaining that he refuses to grade the rest of your paper until you correct that mistake. Her lectures supposedly contain feedback that supposedly contains information that will supposedly help you fix the problem, but his supposed people skills are horrible, and the supposed feedback she gives is really not anything that can be understood by *normal* people. Then you fix that mistake (which may take you more than one try), only to have him throw the same tantrum over your next mistake. Thinking nasty thoughts yet?\n",
    "\n",
    "Not all compilers are that mean, but sometimes it can seem that way. To be clear, when I say \"normal people,\" I regard programmers as awesome, way-above-average, *supranormal* people. After all, programmers created Python! And in spite of certain stereotypes, most of them are pretty friendly. If asked nicely, they will usually be glad to explain what the compiler's cryptic feedback means. But some of them love the compiler, so try having a little tolerance.\n",
    "\n",
    "However, programmers are not always around when you need them--especially the good ones, who usually have something called jobs. So more often than not, it's just you, one on one. With the compiler. Wishing it was Bruno and Klaus. Oof. So sorry."
   ]
  },
  {
   "cell_type": "markdown",
   "metadata": {},
   "source": [
    "### Conversations, not lectures"
   ]
  },
  {
   "cell_type": "markdown",
   "metadata": {},
   "source": [
    "OK, continuing on with my weird metaphor... What, you were hoping I was done with it? Nope, sorry. Not just yet.\n",
    "\n",
    "If the compiler is a really bad English teacher, and Python's interpreter is a nice, friendly, helpful, English tutor, then what is she like exactly?\n",
    "\n",
    "First of all, he is always there for you, ready to have a **conversation** with you anytime you want. She never sends you away to another program, although he doesn't mind if you go and come back. You don't have to give her a whole long bunch of code at once (though again, you can if you want), you can just give him one or two sentences. It's true that she is very picky like the compiler, and will stop you if you made a syntax error, but he is much easier to talk to. If you don't understand her explanation of the error, he has a number of ways to help you with that. She will wait patiently while you try to correct the error, instead of sending you away to an editor. And if you give him a correct sentence, instead of giving you an executable that you have to go away and execute someplace else, she will execute it for you, right there on the spot. So you get immediate feedback for any syntax errors that you make, and immediate execution the errors are taken care of.\n",
    "\n",
    "That's where the **explore** comes in. He also keeps a record of what your code did, so after executing, you can explore. You can check to see if it did what you wanted it to do, and then give her another small sentence that makes another small change, and so forth. At any point, if you can't remember how to do something, you can ask him for help. She doesn't know everything, and you may have to go somewhere else to find some things out, but he is pretty darn helpful, especially compared to Mr. and/or Ms. Cold-as-crap compiler.\n",
    "\n",
    "Well, alright. I've talked up this execute-and-explore workflow, and hyped the interpreter like mad, but even if I've convinced you of anything, it helps very little unless something more substantial than a metaphor comes out of it all.\n",
    "\n",
    "So, where's the Python?"
   ]
  },
  {
   "cell_type": "markdown",
   "metadata": {
    "collapsed": true
   },
   "source": [
    "<img src=\"Wheres_the_Python.jpg\" />"
   ]
  },
  {
   "cell_type": "markdown",
   "metadata": {},
   "source": [
    "### Where's the Python?"
   ]
  },
  {
   "cell_type": "markdown",
   "metadata": {},
   "source": [
    "A fine question. Let there be Python code to make us an example in these dark times.\n",
    "\n",
    "**WARNING:** The code below is not good Python code, because it is not **PYTHONIC**. Like all languages, Python has syntax. But Python also has **idioms** that make it more useful. When you write in Python, you have to use correct syntax or your code will not run. Unlike with syntax, you are allowed to write code that goes against Python's idioms, and if it has correct syntax it will run. But if you don't learn idiomatic Python, you can never become a **Pythonista.** And that would be quite sad.\n",
    "\n",
    "Why show you non-idiomatic, non-pythonic Python? There are reasons. Be patient, good reader. This is also a fine question, but one question at a time.\n",
    "\n",
    "To the *non*-pythonic code then, which we will, one day very soon, transform into *pythonic* code right before your very eyes. And it will be like Christmas came early."
   ]
  },
  {
   "cell_type": "code",
   "execution_count": 16,
   "metadata": {
    "collapsed": false
   },
   "outputs": [
    {
     "name": "stdout",
     "output_type": "stream",
     "text": [
      "Fellow humanoid lifeforms, do not miss this!\n",
      "Prepare yourselves for the following EPIC BATTLES:\n",
      "Doctor Strange  vs.  The Dread Dormammu\n",
      "to the death!!!\n",
      "\n",
      "Obi-Wan Kenobi  vs.  Darth Vader\n",
      "to the death!!!\n",
      "\n",
      "Austin Powers  vs.  Dr. Evil\n",
      "to the death!!!\n",
      "\n",
      "Sarah Connor  vs.  The T-1000 Terminator\n",
      "to the death!!!\n",
      "\n",
      "Stay tuned for the further developments. I repeat, DO NOT MISS THIS!!\n"
     ]
    },
    {
     "data": {
      "text/plain": [
       "''"
      ]
     },
     "execution_count": 16,
     "metadata": {},
     "output_type": "execute_result"
    }
   ],
   "source": [
    "# epic_battle.py\n",
    "#\n",
    "# The *data structures*\n",
    "# heroes -- a 'list' of 'str'\n",
    "# villains -- a different 'list' of 'str'\n",
    "heroes = ['Doctor Strange', 'Obi-Wan Kenobi', 'Austin Powers', 'Sarah Connor']\n",
    "villains = ['The Dread Dormammu', 'Darth Vader', 'Dr. Evil', 'The T-1000 Terminator']\n",
    "\n",
    "print \"Fellow humanoid lifeforms, do not miss this!\"\n",
    "print \"Prepare yourselves for the following EPIC BATTLES:\"\n",
    "\n",
    "# The Intros:\n",
    "# Introducing your epic battlers, and introducing Python *control structures*\n",
    "for i in [0,1,2,3]:\n",
    "    print heroes[i],\n",
    "    print ' vs. ',\n",
    "    print villains[i]\n",
    "    print \"to the death!!!\"\n",
    "    print\n",
    "\n",
    "print \"Stay tuned for the further developments. I repeat, DO NOT MISS THIS!!\""
   ]
  },
  {
   "cell_type": "markdown",
   "metadata": {},
   "source": [
    "**Epic Battle** is loosely inspired by the old video game, *Mortal Kombat*, and the MTV show, *Celebrity Deathmatch*. It's certainly not as cool as either of those, but all I promised was that it would be cooler than \"Hello world.\" Promise kept. And now that you have some empirical evidence that I am a *Homo sapiens* of my word, I promise to make it cooler as we go along."
   ]
  },
  {
   "cell_type": "markdown",
   "metadata": {},
   "source": [
    "If you want, you can run this code now and see what it does. Here are at least two ways to do this:\n",
    "1. If you are viewing this notebook in Jupyter, the code cells will run when you press the 'run cell' button (or choose  'Run' from the 'Cell' menu). The output will appear below the cell.\n",
    "2. If you are viewing this notebook in a viewer, the code cells won't run. You will need to paste their content into a text editor, save to a file (eg filename.py), and then type 'python filename.py' at a command line prompt. The output should then appear in the command console.\n",
    "3. Get a Python prompt and enter the code one line at a time.\n",
    "\n",
    "If you don't want, don't worry, we'll get to it later."
   ]
  },
  {
   "cell_type": "markdown",
   "metadata": {},
   "source": [
    "Alrighty then. Several mighty important concepts are introduced in this tiny bit of simple code. I'm not going to explain much about them right now, but I am going to list them. You may already know them, but they are deeper than you probably think. After the list, we'll cover them one by one.\n",
    "1. The [**comment**](https://www.google.com/search?q=python+comment)  \n",
    "The lines beginning with '#' are **comments.**  \n",
    "<br/>  \n",
    "2. The [**data structure**](https://www.google.com/search?q=python+data+structure)  \n",
    "Data structures hold data.   \n",
    "<br/> \n",
    "3. The [**type**](https://www.google.com/search?q=python+types) of a **data structure**  \n",
    "Here we see data structures with type 'list' and type 'str'.   \n",
    "<br/> \n",
    "4. The [**variable**](https://www.google.com/search?q=python+variable)  \n",
    "`heroes` and `enemies` are **variables** that refer to data structures of type 'list'.  \n",
    "<br/>\n",
    "5. The [**expression**](https://www.google.com/search?q=python+expression)  \n",
    "An **expression** is a way of representing some value, some data, or some calculation. For example, '3 + 5' is a way of representing the integer 8. We then like to say that the expression '3 + 5' *evaluates* to 8.  \n",
    "<br/>\n",
    "6. The [**statement**](https://www.google.com/search?q=python+statement)  \n",
    "A **statement** is a technically command that changes the state of the program. Or in non-technical terms, it does something. For instance, a **print statement** prints something to the screen.  \n",
    "<br/>\n",
    "7. The [**assignment statement**](https://www.google.com/search?q=python+assignment+statement)  \n",
    "The variables `heroes` and `enemies` are defined using **assignment statements** at the beginning of this code (right after the comments). Assignment statements use Python's '=' operator.  \n",
    "<br/>\n",
    "8. The [**control structure**](https://www.google.com/search?q=python+control+structure)  \n",
    "A **control structure** controls the flow of the statements in a program. There are several kinds of **control structures** in Python. We'll just look at one for now, the **for statement**.  \n",
    "<br/>\n",
    "9. The [**for statement**](https://www.google.com/search?q=python+for+statement)  \n",
    "The **for statement** is a control structure that loops through a code block, changing its control variable with each iteration.  \n",
    "<br/>\n",
    "10. [**Indentation**](https://www.google.com/search?q=python+indentation)    \n",
    "The Python way to create blocks of code. So, so important, and so, so beautiful. Ahhhh.  \n",
    "<br/>\n",
    "11. The [**string literal**](https://www.google.com/search?q=python+string+literal)  \n",
    "A **string literal** is between two single or two double quotes.  \n",
    "<br/>\n",
    "12. The [**function**](https://www.google.com/search?q=python+function)  \n",
    "A **function** is an expression that takes zero or more arguments and returns a value stored in some kind of data structure. In this code, we see Python's **built-in** **range()** **function,** which, in its simplest form, takes an integer (a data structure of type 'int') and returns a list with integers from zero up to, but not including, that integer. Another useful **built-in** is **type()**, which returns the type of its argument.\n",
    "  \n",
    "The links above link to Google searches. Explore them at your leisure. Why did I do this when you could just go to Google and type the search yourself? Because you might not. You might not click on the links either, but you're more likely to click in one step than open a new tab, go to Google, type \"python data structures\", and hit enter, which is four steps.\n",
    "\n",
    "If you do follow the links, just spend a very little time on each one, a couple of minutes at most. The idea is to try and see the two or three things that stand out the most and then remember them. If you do that, each time you come back again and search, you will build on that foundation, and you will remember more and more each time. And in this way, your powers will become very great, young Padawan.\n",
    "\n",
    "The point I'm trying to make is two-fold. First, if you get used to googling almost everything, you will find out just how much is out there, and you will get better and better at finding it quickly. You will also get to know certain websites as being particularly useful--for instance, two of my favorites are [docs.python.org](https://docs.python.org/2.7/) and [ and [stackoverflow.com](http://stackoverflow.com/). Second, from here on, every time I put a word in **bold-face** type, I am letting you know that if you put \"python\" plus that term in a Google search, it will probably be worth your while. I'm not going to keep linking everything to Google, though, because I am hoping that after seeing how valuable and easy it is to use Google in this way, you will be willing to do the three extra steps yourself.\n",
    "\n",
    "In addition to the above listed concepts, another couple of mighty, mighty important things to understand what a Python [**keyword**](https://www.google.com/search?q=python+keywords) and a Python [**operator**](https://www.google.com/search?q=python+operators) are. Mighty. OK, I did it again after all. But that's because Python **keywords** and **operators** are [**Monty**](https://www.google.com/search?q=python+keywords) important."
   ]
  },
  {
   "cell_type": "markdown",
   "metadata": {},
   "source": [
    "### The **comment**\n",
    "A **comment** is a programmatic non-statement.  \n",
    "It begins with a '#' sign (which you may call a pound sign or a hash sign depending on where you learned English.) Once the Python **interpreter** sees this sign, it ignores the rest of the line. Why put it there at all? It's there for *you*, dear reader. You are going to be reading code now, and while the code is meant for the interpreter, you are important too. If the programmer wants to give you a message of some kind, **comments** are one way she can do just that."
   ]
  },
  {
   "cell_type": "markdown",
   "metadata": {},
   "source": [
    "For instance, the **comments** below (reproduced from the code above) are telling you things about the code below them. They are explanatory **comments**. You can also use **comments** for copyright info, documentation, annotation, and other assorted purposes. You could devise your own purposes. But please use this awesome commenting power only for good, never for evil."
   ]
  },
  {
   "cell_type": "code",
   "execution_count": 17,
   "metadata": {
    "collapsed": true
   },
   "outputs": [],
   "source": [
    "# The *data structures*\n",
    "# heroes -- a 'list' of 'str'\n",
    "# villains -- a different 'list' of 'str'"
   ]
  },
  {
   "cell_type": "markdown",
   "metadata": {},
   "source": [
    "### The **data structure** and its **type** \n",
    "A **data structure** is a structure for holding data. Bet you already had that figured. What's particularly important is that in Python, any **data structure** has an attribute called its **type,** which helps determine what kind of data it contains and what can be done with it. We will learn lots more about **data structures** and **types** later, but for now let's focus on two **types**:  **list** and **str.**"
   ]
  },
  {
   "cell_type": "code",
   "execution_count": 21,
   "metadata": {
    "collapsed": false
   },
   "outputs": [
    {
     "name": "stdout",
     "output_type": "stream",
     "text": [
      "The first letter of a_string: a\n",
      "The second item in bucket_list: Write an awesome book about Python\n",
      "a_string is 8 characters long.\n",
      "The last item in bucket_list is Become a member of Monty Python\n"
     ]
    }
   ],
   "source": [
    "# Some strings (strings are data structures of type 'str').\n",
    "a_string = 'a string'\n",
    "another_string = \"the same string (but not really)\" # Double quotes also works\n",
    "lowercase_alphabet = 'abcdefghijklmnopqrstuvwxyz'\n",
    "empty_string = ''\n",
    "string_with_quotes = 'I said, \"No!\"'\n",
    "string_with_apostrophes = \"Don't you dare touch Doctor Strange's amulet!\"\n",
    "print string_with_apostrophes\n",
    "\n",
    "# The '+' **operator** can create a string from other strings\n",
    "a_big_string = a_string + 'and ' + another_string \n",
    "tell_us = \"There are ways of telling whether she is \" + a_string + '!'\n",
    "print tell_us\n",
    "\n",
    "# Some lists\n",
    "empty_list = [] # Square brackets tell Python to create a list (sometimes but not always)\n",
    "another_empty_list = list() # The list() constructor does the same thing\n",
    "short_list = [1, 2, 3] # Here is a list of integers...\n",
    "# ..and here is a list of strings\n",
    "bucket_list = ['See Doctor Strange', 'Write an awesome book about Python', \n",
    "               'Stay at home and pretend I climbed Mt. Everest', 'Become a member of Monty Python']\n",
    "\n",
    "# IMPORTANT: Another use for square brackets!!!!\n",
    "# Indexing into certain data structures (including lists and strings)\n",
    "# Indexes start at 0\n",
    "print \"The first letter of a_string: \" + a_string[0]\n",
    "print \"The second item in bucket_list: \" + bucket_list[1]\n",
    "\n",
    "# Some fancy stuff:\n",
    "# len(): a built-in function, returns the number of items in a data structure\n",
    "# str(): a built-in function, it returns a string equivalent for its argument\n",
    "# []-indexing with an expression that evaluates to an integer instead of just an integer\n",
    "a_string_length = len(a_string)\n",
    "\n",
    "# Try this line without calling str() on a_string_length and see what happens.\n",
    "print \"a_string is \" + str(a_string_length) + \" characters long.\"\n",
    "\n",
    "bucket_list_length = len(bucket_list)\n",
    "print \"The last item in bucket_list is \" + bucket_list[bucket_list_length - 1]"
   ]
  },
  {
   "cell_type": "code",
   "execution_count": 18,
   "metadata": {
    "collapsed": false
   },
   "outputs": [
    {
     "name": "stdout",
     "output_type": "stream",
     "text": [
      "Fellow humanoid lifeforms, prepare yourselves for the following EPIC BATTLES:\n",
      "Doctor Strange  vs.  The Dread Dormammu\n",
      "to the death-death-death (echo-echo-echo)!!!\n",
      "\n",
      "Obi-Wan Kenobi  vs.  Darth Vader\n",
      "to the death-death-death (echo-echo-echo)!!!\n",
      "\n",
      "Austin Powers  vs.  Dr. Evil\n",
      "to the death-death-death (echo-echo-echo)!!!\n",
      "\n",
      "Sarah Connor  vs.  The T-1000 Terminator\n",
      "to the death-death-death (echo-echo-echo)!!!\n",
      "\n",
      "Malcolm Reynolds  vs.  Adelai Niska\n",
      "to the death-death-death (echo-echo-echo)!!!\n",
      "\n",
      "Jean-Luc Picard  vs.  The Borg\n",
      "to the death-death-death (echo-echo-echo)!!!\n",
      "\n",
      "King Arthur  vs.  The Black Knight\n",
      "to the death-death-death (echo-echo-echo)!!!\n",
      "\n",
      "Stay tuned for the latest developments!\n"
     ]
    }
   ],
   "source": [
    "heroes = ['Doctor Strange', 'Obi-Wan Kenobi', 'Austin Powers', 'Sarah Connor', \n",
    "          'Malcolm Reynolds', 'Jean-Luc Picard', 'King Arthur']\n",
    "villains = ['The Dread Dormammu', 'Darth Vader', 'Dr. Evil', 'The T-1000 Terminator', \n",
    "            'Adelai Niska', 'The Borg', 'The Black Knight']\n",
    "\n",
    "print \"Fellow humanoid lifeforms, prepare yourselves for the following EPIC BATTLES:\"\n",
    "\n",
    "for i in range(len(heroes)):\n",
    "    print heroes[i],\n",
    "    print ' vs. ',\n",
    "    print villains[i]\n",
    "    print \"to the death-death-death (echo-echo-echo)!!!\"\n",
    "    print\n",
    "\n",
    "print \"Stay tuned for the latest developments!\"    "
   ]
  },
  {
   "cell_type": "code",
   "execution_count": 19,
   "metadata": {
    "collapsed": false
   },
   "outputs": [
    {
     "name": "stdout",
     "output_type": "stream",
     "text": [
      "Doctor Strange  vs.  The Dread Dormammu\n",
      "to the death!!!\n",
      "\n",
      "Obi-Wan Kenobi  vs.  Darth Vader\n",
      "to the death!!!\n",
      "\n",
      "Austin Powers  vs.  Dr. Evil\n",
      "to the death!!!\n",
      "\n",
      "Sarah Connor  vs.  The T-1000 Terminator\n",
      "to the death!!!\n",
      "\n",
      "Stay tuned for the latest news on the outcomes of these epic battles!\n"
     ]
    }
   ],
   "source": [
    "# This line is a comment. It doesn't do anything, it just appears so you can read it.\n",
    "# The '#' sign at the beginning of the line tells Python to ignore it. You can put comments \n",
    "# anywhere you want. Try it!\n",
    "\n",
    "heroes = ['Doctor Strange', 'Obi-Wan Kenobi', 'Austin Powers', 'Sarah Connor']\n",
    "# This line creates a variable named 'heroes' and puts some contents in that variable.\n",
    "# This is known as an assignment statement.\n",
    "# It could be named anything that's a valid variable name. Google 'python valid variable name'\n",
    "# This variable is of type 'list'. Google 'python list'\n",
    "# The '=' sign makes this line \n",
    "\n",
    "villains = ['The Dread Dormammu', 'Darth Vader', 'Dr. Evil', 'The T-1000 Terminator']\n",
    "\n",
    "for i in range(4):\n",
    "    print heroes[i],\n",
    "    print ' vs. ',\n",
    "    print villains[i]\n",
    "    print \"to the death!!!\"\n",
    "    print\n",
    "\n",
    "print \"Stay tuned for the latest news on the outcomes of these epic battles!\"\n",
    "\n",
    "    "
   ]
  },
  {
   "cell_type": "code",
   "execution_count": 20,
   "metadata": {
    "collapsed": false
   },
   "outputs": [
    {
     "name": "stdout",
     "output_type": "stream",
     "text": [
      "Match # 1\n",
      "Doctor Strange  vs.  The Dread Dormammu\n",
      "to the death!!!\n",
      "\n",
      "Match # 2\n",
      "Obi-Wan Kenobi  vs.  Darth Vader\n",
      "to the death!!!\n",
      "\n",
      "Match # 3\n",
      "Austin Powers  vs.  Dr. Evil\n",
      "to the death!!!\n",
      "\n",
      "Match # 4\n",
      "Sarah Connor  vs.  The T-1000 Terminator\n",
      "to the death!!!\n",
      "\n",
      "Stay tuned for the latest news on the outcomes of these epic battles!\n",
      "Type of data structure: <type 'list'>\n"
     ]
    }
   ],
   "source": [
    "heroes = ['Doctor Strange', 'Obi-Wan Kenobi', 'Austin Powers', 'Sarah Connor']\n",
    "villains = ['The Dread Dormammu', 'Darth Vader', 'Dr. Evil', 'The T-1000 Terminator']\n",
    "\n",
    "for i in range(4):\n",
    "    print 'Match # ' + str(i + 1)\n",
    "    print heroes[i],\n",
    "    print ' vs. ',\n",
    "    print villains[i]\n",
    "    print \"to the death!!!\"\n",
    "    print\n",
    "\n",
    "print \"Stay tuned for the latest news on the outcomes of these epic battles!\"\n",
    "\n",
    "print \"Type of data structure: \" + str(type(heroes))\n"
   ]
  }
 ],
 "metadata": {
  "kernelspec": {
   "display_name": "Python 2",
   "language": "python",
   "name": "python2"
  },
  "language_info": {
   "codemirror_mode": {
    "name": "ipython",
    "version": 2
   },
   "file_extension": ".py",
   "mimetype": "text/x-python",
   "name": "python",
   "nbconvert_exporter": "python",
   "pygments_lexer": "ipython2",
   "version": "2.7.10"
  }
 },
 "nbformat": 4,
 "nbformat_minor": 0
}
